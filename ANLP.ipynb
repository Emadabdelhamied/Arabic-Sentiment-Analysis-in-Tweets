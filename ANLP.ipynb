{
 "cells": [
  {
   "cell_type": "markdown",
   "metadata": {
    "id": "rk2_7AlExyJp"
   },
   "source": [
    "# python libraries"
   ]
  },
  {
   "cell_type": "code",
   "execution_count": 102,
   "metadata": {
    "id": "v0qrRV29xdph"
   },
   "outputs": [],
   "source": [
    "from collections import Counter\n",
    "import nltk\n",
    "import seaborn as sns\n",
    "import pandas as pd\n",
    "from sklearn.ensemble import RandomForestClassifier\n",
    "from sklearn.svm import LinearSVC\n",
    "from sklearn.linear_model import LogisticRegression\n",
    "from sklearn.linear_model import PassiveAggressiveClassifier\n",
    "from sklearn.linear_model import RidgeClassifier\n",
    "from sklearn.naive_bayes import GaussianNB\n",
    "from sklearn.metrics import recall_score\n",
    "from sklearn.metrics import precision_score\n",
    "from sklearn.metrics import f1_score\n",
    "from sklearn.model_selection import train_test_split\n",
    "from sklearn.feature_extraction.text import TfidfVectorizer, CountVectorizer\n",
    "from prettytable import PrettyTable\n",
    "from matplotlib import rcParams\n",
    "import matplotlib.cm as cm\n",
    "import string\n",
    "import re\n",
    "from nltk.tokenize import RegexpTokenizer\n",
    "from nltk.tokenize import word_tokenize\n",
    "from nltk.corpus import stopwords\n",
    "from sklearn import preprocessing\n",
    "import pandas\n",
    "import matplotlib.pyplot as plt\n",
    "from wordcloud import WordCloud\n",
    "import streamlit as st\n",
    "import numpy as np\n",
    "import pandas as pd\n",
    "from sklearn.metrics import classification_report, confusion_matrix\n",
    "from sklearn.ensemble import VotingClassifier\n",
    "import warnings\n",
    "warnings.filterwarnings(\"ignore\")"
   ]
  },
  {
   "cell_type": "markdown",
   "metadata": {
    "id": "q3YHWfq7x52n"
   },
   "source": [
    "# Dataset"
   ]
  },
  {
   "cell_type": "code",
   "execution_count": 34,
   "metadata": {
    "id": "e1fjhv0dxdpl"
   },
   "outputs": [
    {
     "data": {
      "text/html": [
       "<div>\n",
       "<style scoped>\n",
       "    .dataframe tbody tr th:only-of-type {\n",
       "        vertical-align: middle;\n",
       "    }\n",
       "\n",
       "    .dataframe tbody tr th {\n",
       "        vertical-align: top;\n",
       "    }\n",
       "\n",
       "    .dataframe thead th {\n",
       "        text-align: right;\n",
       "    }\n",
       "</style>\n",
       "<table border=\"1\" class=\"dataframe\">\n",
       "  <thead>\n",
       "    <tr style=\"text-align: right;\">\n",
       "      <th></th>\n",
       "      <th>Type</th>\n",
       "      <th>Tweet</th>\n",
       "    </tr>\n",
       "  </thead>\n",
       "  <tbody>\n",
       "    <tr>\n",
       "      <th>0</th>\n",
       "      <td>pos</td>\n",
       "      <td>الي يتابعني من زمان يعرف اني ما حفزت على الحضو...</td>\n",
       "    </tr>\n",
       "    <tr>\n",
       "      <th>1</th>\n",
       "      <td>pos</td>\n",
       "      <td>رسميا اختربت نومتي 😀</td>\n",
       "    </tr>\n",
       "    <tr>\n",
       "      <th>2</th>\n",
       "      <td>pos</td>\n",
       "      <td>عيونك وطن وأكثر وطن شد انتباهي 😌</td>\n",
       "    </tr>\n",
       "    <tr>\n",
       "      <th>3</th>\n",
       "      <td>pos</td>\n",
       "      <td>وحده تهز 👍</td>\n",
       "    </tr>\n",
       "    <tr>\n",
       "      <th>4</th>\n",
       "      <td>pos</td>\n",
       "      <td>شهور الله يهديك يا حليمه لا تحطين قلوب صفراء ع...</td>\n",
       "    </tr>\n",
       "  </tbody>\n",
       "</table>\n",
       "</div>"
      ],
      "text/plain": [
       "  Type                                              Tweet\n",
       "0  pos  الي يتابعني من زمان يعرف اني ما حفزت على الحضو...\n",
       "1  pos                               رسميا اختربت نومتي 😀\n",
       "2  pos                   عيونك وطن وأكثر وطن شد انتباهي 😌\n",
       "3  pos                                         وحده تهز 👍\n",
       "4  pos  شهور الله يهديك يا حليمه لا تحطين قلوب صفراء ع..."
      ]
     },
     "execution_count": 34,
     "metadata": {},
     "output_type": "execute_result"
    }
   ],
   "source": [
    "pos_data = pd.read_csv('pos_data.tsv',sep='\\t',header=None) \n",
    "pos_data=pos_data[:6000]\n",
    "pos_data.columns=['Type','Tweet']\n",
    "pos_data.head()"
   ]
  },
  {
   "cell_type": "code",
   "execution_count": 35,
   "metadata": {},
   "outputs": [
    {
     "data": {
      "text/html": [
       "<div>\n",
       "<style scoped>\n",
       "    .dataframe tbody tr th:only-of-type {\n",
       "        vertical-align: middle;\n",
       "    }\n",
       "\n",
       "    .dataframe tbody tr th {\n",
       "        vertical-align: top;\n",
       "    }\n",
       "\n",
       "    .dataframe thead th {\n",
       "        text-align: right;\n",
       "    }\n",
       "</style>\n",
       "<table border=\"1\" class=\"dataframe\">\n",
       "  <thead>\n",
       "    <tr style=\"text-align: right;\">\n",
       "      <th></th>\n",
       "      <th>Type</th>\n",
       "      <th>Tweet</th>\n",
       "    </tr>\n",
       "  </thead>\n",
       "  <tbody>\n",
       "    <tr>\n",
       "      <th>0</th>\n",
       "      <td>neg</td>\n",
       "      <td>لا يغرك سكوتي ترا البعد ماينطاق الدمع بلل خدود...</td>\n",
       "    </tr>\n",
       "    <tr>\n",
       "      <th>1</th>\n",
       "      <td>neg</td>\n",
       "      <td>أشجار جزيرة سقطرى العجيبه والفريدة من نوعها، ي...</td>\n",
       "    </tr>\n",
       "    <tr>\n",
       "      <th>2</th>\n",
       "      <td>neg</td>\n",
       "      <td>أشين انواع الزعل أنك تزعل ومحد درى عنك 🙄 يعني ...</td>\n",
       "    </tr>\n",
       "    <tr>\n",
       "      <th>3</th>\n",
       "      <td>neg</td>\n",
       "      <td>كذا بنفقد الاطراف في الهجوم 💔</td>\n",
       "    </tr>\n",
       "    <tr>\n",
       "      <th>4</th>\n",
       "      <td>neg</td>\n",
       "      <td>…</td>\n",
       "    </tr>\n",
       "  </tbody>\n",
       "</table>\n",
       "</div>"
      ],
      "text/plain": [
       "  Type                                              Tweet\n",
       "0  neg  لا يغرك سكوتي ترا البعد ماينطاق الدمع بلل خدود...\n",
       "1  neg  أشجار جزيرة سقطرى العجيبه والفريدة من نوعها، ي...\n",
       "2  neg  أشين انواع الزعل أنك تزعل ومحد درى عنك 🙄 يعني ...\n",
       "3  neg                      كذا بنفقد الاطراف في الهجوم 💔\n",
       "4  neg                                                  …"
      ]
     },
     "execution_count": 35,
     "metadata": {},
     "output_type": "execute_result"
    }
   ],
   "source": [
    "neg_data = pd.read_csv('neg_data.tsv',sep='\\t',header=None) \n",
    "neg_data=neg_data[:3000]\n",
    "neg_data.columns=['Type','Tweet']\n",
    "neg_data.head()"
   ]
  },
  {
   "cell_type": "code",
   "execution_count": 50,
   "metadata": {
    "id": "Xp_adDqxxdpm",
    "outputId": "a69b57bf-ec95-4dd8-9ca8-a7c69ab936f6"
   },
   "outputs": [
    {
     "data": {
      "text/html": [
       "<div>\n",
       "<style scoped>\n",
       "    .dataframe tbody tr th:only-of-type {\n",
       "        vertical-align: middle;\n",
       "    }\n",
       "\n",
       "    .dataframe tbody tr th {\n",
       "        vertical-align: top;\n",
       "    }\n",
       "\n",
       "    .dataframe thead th {\n",
       "        text-align: right;\n",
       "    }\n",
       "</style>\n",
       "<table border=\"1\" class=\"dataframe\">\n",
       "  <thead>\n",
       "    <tr style=\"text-align: right;\">\n",
       "      <th></th>\n",
       "      <th>Type</th>\n",
       "      <th>Tweet</th>\n",
       "    </tr>\n",
       "  </thead>\n",
       "  <tbody>\n",
       "    <tr>\n",
       "      <th>1771</th>\n",
       "      <td>pos</td>\n",
       "      <td>السبت الأخير للدوام 😌</td>\n",
       "    </tr>\n",
       "    <tr>\n",
       "      <th>496</th>\n",
       "      <td>pos</td>\n",
       "      <td>قوتنا بعد الله دائما أنتم🌹💙 الف مبرووك 💙 الحمد...</td>\n",
       "    </tr>\n",
       "    <tr>\n",
       "      <th>526</th>\n",
       "      <td>pos</td>\n",
       "      <td>والله الاتحادي كل يوم يشجع فريق 😂 عشان فريقه م...</td>\n",
       "    </tr>\n",
       "    <tr>\n",
       "      <th>680</th>\n",
       "      <td>pos</td>\n",
       "      <td>آعشق : نظراتگ المختلسهہ ♡ .. تحديدا حينمآ أعلم...</td>\n",
       "    </tr>\n",
       "    <tr>\n",
       "      <th>1992</th>\n",
       "      <td>pos</td>\n",
       "      <td>مساء الخير لجميع السناقل .. اما الباقين خل حب ...</td>\n",
       "    </tr>\n",
       "  </tbody>\n",
       "</table>\n",
       "</div>"
      ],
      "text/plain": [
       "     Type                                              Tweet\n",
       "1771  pos                              السبت الأخير للدوام 😌\n",
       "496   pos  قوتنا بعد الله دائما أنتم🌹💙 الف مبرووك 💙 الحمد...\n",
       "526   pos  والله الاتحادي كل يوم يشجع فريق 😂 عشان فريقه م...\n",
       "680   pos  آعشق : نظراتگ المختلسهہ ♡ .. تحديدا حينمآ أعلم...\n",
       "1992  pos  مساء الخير لجميع السناقل .. اما الباقين خل حب ..."
      ]
     },
     "execution_count": 50,
     "metadata": {},
     "output_type": "execute_result"
    }
   ],
   "source": [
    "data=pd.concat([pos_data, neg_data], sort=False,ignore_index=True)\n",
    "data=data.sample(frac=1)\n",
    "data.head()"
   ]
  },
  {
   "cell_type": "code",
   "execution_count": 51,
   "metadata": {
    "id": "pvl7IB0qxdpo",
    "outputId": "84eaca39-06eb-4a2f-bb12-81fdbd18f166"
   },
   "outputs": [
    {
     "data": {
      "image/png": "[encoded data removed]",
      "text/plain": [
       "<Figure size 432x288 with 1 Axes>"
      ]
     },
     "metadata": {},
     "output_type": "display_data"
    }
   ],
   "source": [
    "carrier_count = data[\"Type\"].value_counts()\n",
    "sns.set(style=\"darkgrid\")\n",
    "sns.barplot(carrier_count.index, carrier_count.values, alpha=0.7)\n",
    "plt.title('Frequency Distribution of class')\n",
    "plt.ylabel('Number of Occurrences', fontsize=12)\n",
    "plt.xlabel('Carrier', fontsize=12)\n",
    "plt.show()"
   ]
  },
  {
   "cell_type": "code",
   "execution_count": 53,
   "metadata": {
    "id": "scV2jrwoxdpp",
    "outputId": "659654be-35df-4d10-e739-796355e22c67"
   },
   "outputs": [
    {
     "name": "stderr",
     "output_type": "stream",
     "text": [
      "[nltk_data] Downloading package punkt to\n",
      "[nltk_data]     C:\\Users\\emada\\AppData\\Roaming\\nltk_data...\n",
      "[nltk_data]   Package punkt is already up-to-date!\n"
     ]
    },
    {
     "data": {
      "text/plain": [
       "'الي يتابعني من زمان يعرف اني ما حفزت على الحضور هالموسم ومقاطع المدرج من فترة طويلة بسبب الفشل ولكن الحين اقول لكم…'"
      ]
     },
     "execution_count": 53,
     "metadata": {},
     "output_type": "execute_result"
    },
    {
     "data": {
      "image/png": "[encoded data removed]",
      "text/plain": [
       "<Figure size 576x576 with 1 Axes>"
      ]
     },
     "metadata": {},
     "output_type": "display_data"
    }
   ],
   "source": [
    "data[\"Type\"].value_counts().head(3).plot(\n",
    "    kind='pie', autopct='%1.1f%%', figsize=(8, 8)).legend()\n",
    "\n",
    "data[\"Type\"].value_counts()\n",
    "\n",
    "nltk.download('punkt')\n",
    "\n",
    "nltk.word_tokenize(data[\"Tweet\"][0])\n",
    "\n",
    "data[\"Tweet\"][0]"
   ]
  },
  {
   "cell_type": "markdown",
   "metadata": {
    "id": "aEhREo9jyBjL"
   },
   "source": [
    "# preprocessing"
   ]
  },
  {
   "cell_type": "code",
   "execution_count": 54,
   "metadata": {
    "id": "s71iDkJzxdpr",
    "outputId": "48afb969-8b88-4e46-a1ca-d2b8a45dba55"
   },
   "outputs": [
    {
     "data": {
      "text/plain": [
       "['الي',\n",
       " 'يتابعني',\n",
       " 'من',\n",
       " 'زمان',\n",
       " 'يعرف',\n",
       " 'اني',\n",
       " 'ما',\n",
       " 'حفزت',\n",
       " 'على',\n",
       " 'الحضور',\n",
       " 'هالموسم',\n",
       " 'ومقاطع',\n",
       " 'المدرج',\n",
       " 'من',\n",
       " 'فترة',\n",
       " 'طويلة',\n",
       " 'بسبب',\n",
       " 'الفشل',\n",
       " 'ولكن',\n",
       " 'الحين',\n",
       " 'اقول',\n",
       " 'لكم…']"
      ]
     },
     "execution_count": 54,
     "metadata": {},
     "output_type": "execute_result"
    }
   ],
   "source": [
    "# Tokenize using the white spaces\n",
    "nltk.tokenize.WhitespaceTokenizer().tokenize(data[\"Tweet\"][0])"
   ]
  },
  {
   "cell_type": "code",
   "execution_count": 56,
   "metadata": {
    "id": "mxszonZ2xdpu",
    "outputId": "19015dd0-2467-4b41-ff20-50776f30a135"
   },
   "outputs": [
    {
     "data": {
      "text/plain": [
       "['الي',\n",
       " 'يتابعني',\n",
       " 'من',\n",
       " 'زمان',\n",
       " 'يعرف',\n",
       " 'اني',\n",
       " 'ما',\n",
       " 'حفزت',\n",
       " 'على',\n",
       " 'الحضور',\n",
       " 'هالموسم',\n",
       " 'ومقاطع',\n",
       " 'المدرج',\n",
       " 'من',\n",
       " 'فترة',\n",
       " 'طويلة',\n",
       " 'بسبب',\n",
       " 'الفشل',\n",
       " 'ولكن',\n",
       " 'الحين',\n",
       " 'اقول',\n",
       " 'لكم',\n",
       " '…']"
      ]
     },
     "execution_count": 56,
     "metadata": {},
     "output_type": "execute_result"
    }
   ],
   "source": [
    "# Tokenize using Punctuations\n",
    "nltk.tokenize.WordPunctTokenizer().tokenize(data[\"Tweet\"][0])"
   ]
  },
  {
   "cell_type": "code",
   "execution_count": 57,
   "metadata": {
    "id": "aNYy6rhtxdpz",
    "outputId": "7201efab-debd-49bd-bd2f-b5956b64352e"
   },
   "outputs": [
    {
     "data": {
      "text/plain": [
       "['الي',\n",
       " 'يتابعني',\n",
       " 'من',\n",
       " 'زمان',\n",
       " 'يعرف',\n",
       " 'اني',\n",
       " 'ما',\n",
       " 'حفزت',\n",
       " 'على',\n",
       " 'الحضور',\n",
       " 'هالموسم',\n",
       " 'ومقاطع',\n",
       " 'المدرج',\n",
       " 'من',\n",
       " 'فترة',\n",
       " 'طويلة',\n",
       " 'بسبب',\n",
       " 'الفشل',\n",
       " 'ولكن',\n",
       " 'الحين',\n",
       " 'اقول',\n",
       " 'لكم…']"
      ]
     },
     "execution_count": 57,
     "metadata": {},
     "output_type": "execute_result"
    }
   ],
   "source": [
    "# Tokenization using grammer rules\n",
    "nltk.tokenize.TreebankWordTokenizer().tokenize(data[\"Tweet\"][0])"
   ]
  },
  {
   "cell_type": "code",
   "execution_count": 58,
   "metadata": {
    "id": "QKsGaHbAxdp0"
   },
   "outputs": [],
   "source": [
    "words = nltk.tokenize.WhitespaceTokenizer().tokenize(data[\"Tweet\"][0])\n",
    "df = pd.DataFrame()\n",
    "df['OriginalWords'] = pd.Series(words)"
   ]
  },
  {
   "cell_type": "code",
   "execution_count": 59,
   "metadata": {
    "id": "Xl6ZMRvlxdp1"
   },
   "outputs": [],
   "source": [
    "# porter's stemmer\n",
    "porterStemmedWords = [nltk.stem.PorterStemmer().stem(word) for word in words]\n",
    "df['PorterStemmedWords'] = pd.Series(porterStemmedWords)"
   ]
  },
  {
   "cell_type": "code",
   "execution_count": 60,
   "metadata": {
    "id": "F162Vk5dxdp2"
   },
   "outputs": [],
   "source": [
    "# LEMMATIZATION\n",
    "words = nltk.tokenize.WhitespaceTokenizer().tokenize(data[\"Tweet\"][0])\n",
    "df = pd.DataFrame()\n",
    "df['OriginalWords'] = pd.Series(words)"
   ]
  },
  {
   "cell_type": "code",
   "execution_count": null,
   "metadata": {
    "id": "MzclsVAHxdp2",
    "outputId": "85ca75e6-1b13-46c6-9f8d-038360f0cddd"
   },
   "outputs": [
    {
     "data": {
      "text/html": [
       "<div>\n",
       "<style scoped>\n",
       "    .dataframe tbody tr th:only-of-type {\n",
       "        vertical-align: middle;\n",
       "    }\n",
       "\n",
       "    .dataframe tbody tr th {\n",
       "        vertical-align: top;\n",
       "    }\n",
       "\n",
       "    .dataframe thead th {\n",
       "        text-align: right;\n",
       "    }\n",
       "</style>\n",
       "<table border=\"1\" class=\"dataframe\">\n",
       "  <thead>\n",
       "    <tr style=\"text-align: right;\">\n",
       "      <th></th>\n",
       "      <th>OriginalWords</th>\n",
       "      <th>WordNetLemmatizer</th>\n",
       "    </tr>\n",
       "  </thead>\n",
       "  <tbody>\n",
       "    <tr>\n",
       "      <th>0</th>\n",
       "      <td>الدليل</td>\n",
       "      <td>الدليل</td>\n",
       "    </tr>\n",
       "    <tr>\n",
       "      <th>1</th>\n",
       "      <td>على</td>\n",
       "      <td>على</td>\n",
       "    </tr>\n",
       "    <tr>\n",
       "      <th>2</th>\n",
       "      <td>ارهاب</td>\n",
       "      <td>ارهاب</td>\n",
       "    </tr>\n",
       "    <tr>\n",
       "      <th>3</th>\n",
       "      <td>حزب</td>\n",
       "      <td>حزب</td>\n",
       "    </tr>\n",
       "    <tr>\n",
       "      <th>4</th>\n",
       "      <td>الله</td>\n",
       "      <td>الله</td>\n",
       "    </tr>\n",
       "    <tr>\n",
       "      <th>5</th>\n",
       "      <td>ان</td>\n",
       "      <td>ان</td>\n",
       "    </tr>\n",
       "    <tr>\n",
       "      <th>6</th>\n",
       "      <td>الناشط</td>\n",
       "      <td>الناشط</td>\n",
       "    </tr>\n",
       "    <tr>\n",
       "      <th>7</th>\n",
       "      <td>والحاقد</td>\n",
       "      <td>والحاقد</td>\n",
       "    </tr>\n",
       "    <tr>\n",
       "      <th>8</th>\n",
       "      <td>لقمان</td>\n",
       "      <td>لقمان</td>\n",
       "    </tr>\n",
       "    <tr>\n",
       "      <th>9</th>\n",
       "      <td>سليم</td>\n",
       "      <td>سليم</td>\n",
       "    </tr>\n",
       "    <tr>\n",
       "      <th>10</th>\n",
       "      <td>يدعو</td>\n",
       "      <td>يدعو</td>\n",
       "    </tr>\n",
       "    <tr>\n",
       "      <th>11</th>\n",
       "      <td>الى</td>\n",
       "      <td>الى</td>\n",
       "    </tr>\n",
       "    <tr>\n",
       "      <th>12</th>\n",
       "      <td>شن</td>\n",
       "      <td>شن</td>\n",
       "    </tr>\n",
       "    <tr>\n",
       "      <th>13</th>\n",
       "      <td>حرب</td>\n",
       "      <td>حرب</td>\n",
       "    </tr>\n",
       "    <tr>\n",
       "      <th>14</th>\n",
       "      <td>على</td>\n",
       "      <td>على</td>\n",
       "    </tr>\n",
       "    <tr>\n",
       "      <th>15</th>\n",
       "      <td>الطائفة</td>\n",
       "      <td>الطائفة</td>\n",
       "    </tr>\n",
       "    <tr>\n",
       "      <th>16</th>\n",
       "      <td>الشيعية</td>\n",
       "      <td>الشيعية</td>\n",
       "    </tr>\n",
       "    <tr>\n",
       "      <th>17</th>\n",
       "      <td>لاصابتها</td>\n",
       "      <td>لاصابتها</td>\n",
       "    </tr>\n",
       "    <tr>\n",
       "      <th>18</th>\n",
       "      <td>بنكبة</td>\n",
       "      <td>بنكبة</td>\n",
       "    </tr>\n",
       "  </tbody>\n",
       "</table>\n",
       "</div>"
      ],
      "text/plain": [
       "   OriginalWords WordNetLemmatizer\n",
       "0         الدليل            الدليل\n",
       "1            على               على\n",
       "2          ارهاب             ارهاب\n",
       "3            حزب               حزب\n",
       "4           الله              الله\n",
       "5             ان                ان\n",
       "6         الناشط            الناشط\n",
       "7        والحاقد           والحاقد\n",
       "8          لقمان             لقمان\n",
       "9           سليم              سليم\n",
       "10          يدعو              يدعو\n",
       "11           الى               الى\n",
       "12            شن                شن\n",
       "13           حرب               حرب\n",
       "14           على               على\n",
       "15       الطائفة           الطائفة\n",
       "16       الشيعية           الشيعية\n",
       "17      لاصابتها          لاصابتها\n",
       "18         بنكبة             بنكبة"
      ]
     },
     "execution_count": 17,
     "metadata": {},
     "output_type": "execute_result"
    }
   ],
   "source": [
    "# LEMMATIZATION\n",
    "words = nltk.tokenize.WhitespaceTokenizer().tokenize(data[\"phrase\"][0])\n",
    "df = pd.DataFrame()\n",
    "df['OriginalWords'] = pd.Series(words)\n",
    "# WordNet Lemmatization\n",
    "wordNetLemmatizedWords = [\n",
    "    nltk.stem.WordNetLemmatizer().lemmatize(word) for word in words]\n",
    "df['WordNetLemmatizer'] = pd.Series(wordNetLemmatizedWords)\n",
    "df"
   ]
  },
  {
   "cell_type": "code",
   "execution_count": 61,
   "metadata": {
    "id": "09lecoJhxdp3",
    "outputId": "065c3c9e-df8f-4381-85a9-3efcd41b294d"
   },
   "outputs": [
    {
     "data": {
      "text/plain": [
       "1771                                السبت الأخير للدوام 😌\n",
       "496     قوتنا بعد الله دائما أنتم🌹💙 الف مبرووك 💙 الحمد...\n",
       "526     والله الاتحادي كل يوم يشجع فريق 😂 عشان فريقه م...\n",
       "680     آعشق : نظراتگ المختلسهہ ♡ .. تحديدا حينمآ أعلم...\n",
       "1992    مساء الخير لجميع السناقل .. اما الباقين خل حب ...\n",
       "Name: Tweet, dtype: object"
      ]
     },
     "execution_count": 61,
     "metadata": {},
     "output_type": "execute_result"
    }
   ],
   "source": [
    "data['Tweet'].head() "
   ]
  },
  {
   "cell_type": "code",
   "execution_count": 62,
   "metadata": {
    "id": "v_8N5v8exdp5",
    "outputId": "2c62259c-6c3a-4006-f77b-50dd65162754"
   },
   "outputs": [
    {
     "data": {
      "text/html": [
       "<div>\n",
       "<style scoped>\n",
       "    .dataframe tbody tr th:only-of-type {\n",
       "        vertical-align: middle;\n",
       "    }\n",
       "\n",
       "    .dataframe tbody tr th {\n",
       "        vertical-align: top;\n",
       "    }\n",
       "\n",
       "    .dataframe thead th {\n",
       "        text-align: right;\n",
       "    }\n",
       "</style>\n",
       "<table border=\"1\" class=\"dataframe\">\n",
       "  <thead>\n",
       "    <tr style=\"text-align: right;\">\n",
       "      <th></th>\n",
       "      <th>Type</th>\n",
       "      <th>Tweet</th>\n",
       "    </tr>\n",
       "  </thead>\n",
       "  <tbody>\n",
       "  </tbody>\n",
       "</table>\n",
       "</div>"
      ],
      "text/plain": [
       "Empty DataFrame\n",
       "Columns: [Type, Tweet]\n",
       "Index: []"
      ]
     },
     "execution_count": 62,
     "metadata": {},
     "output_type": "execute_result"
    }
   ],
   "source": [
    "# Checking null values \n",
    "data[data.isnull().any(axis=1)].head()"
   ]
  },
  {
   "cell_type": "code",
   "execution_count": 63,
   "metadata": {
    "id": "-tNxu_J1xdp5",
    "outputId": "80871047-255b-45af-c135-64a4cac1cdce"
   },
   "outputs": [
    {
     "data": {
      "text/plain": [
       "0"
      ]
     },
     "execution_count": 63,
     "metadata": {},
     "output_type": "execute_result"
    }
   ],
   "source": [
    "#Checking null values count\n",
    "np.sum(data.isnull().any(axis=1))"
   ]
  },
  {
   "cell_type": "code",
   "execution_count": 64,
   "metadata": {
    "id": "fAHKU3Dhxdp6",
    "outputId": "850d2ea8-0adf-4a86-898a-371ed15624ab"
   },
   "outputs": [
    {
     "data": {
      "text/plain": [
       "Type     False\n",
       "Tweet    False\n",
       "dtype: bool"
      ]
     },
     "execution_count": 64,
     "metadata": {},
     "output_type": "execute_result"
    }
   ],
   "source": [
    "data.isnull().any(axis=0)"
   ]
  },
  {
   "cell_type": "code",
   "execution_count": 65,
   "metadata": {
    "id": "rNbkyVckxdp7"
   },
   "outputs": [],
   "source": [
    "#cleaning tweet text : \n",
    "for letter in '#.][!XR':\n",
    "    data['Tweet'] = data['Tweet'].astype(str).str.replace(letter, '')"
   ]
  },
  {
   "cell_type": "code",
   "execution_count": 66,
   "metadata": {
    "id": "rjC3EBEuxdp7",
    "outputId": "0930f03a-9e34-4d8f-cada-46705cab9421"
   },
   "outputs": [
    {
     "data": {
      "text/html": [
       "<div>\n",
       "<style scoped>\n",
       "    .dataframe tbody tr th:only-of-type {\n",
       "        vertical-align: middle;\n",
       "    }\n",
       "\n",
       "    .dataframe tbody tr th {\n",
       "        vertical-align: top;\n",
       "    }\n",
       "\n",
       "    .dataframe thead th {\n",
       "        text-align: right;\n",
       "    }\n",
       "</style>\n",
       "<table border=\"1\" class=\"dataframe\">\n",
       "  <thead>\n",
       "    <tr style=\"text-align: right;\">\n",
       "      <th></th>\n",
       "      <th>Type</th>\n",
       "      <th>Tweet</th>\n",
       "    </tr>\n",
       "  </thead>\n",
       "  <tbody>\n",
       "    <tr>\n",
       "      <th>1771</th>\n",
       "      <td>pos</td>\n",
       "      <td>السبت الأخير للدوام 😌</td>\n",
       "    </tr>\n",
       "    <tr>\n",
       "      <th>496</th>\n",
       "      <td>pos</td>\n",
       "      <td>قوتنا بعد الله دائما أنتم🌹💙 الف مبرووك 💙 الحمد...</td>\n",
       "    </tr>\n",
       "    <tr>\n",
       "      <th>526</th>\n",
       "      <td>pos</td>\n",
       "      <td>والله الاتحادي كل يوم يشجع فريق 😂 عشان فريقه م...</td>\n",
       "    </tr>\n",
       "    <tr>\n",
       "      <th>680</th>\n",
       "      <td>pos</td>\n",
       "      <td>آعشق : نظراتگ المختلسهہ ♡  تحديدا حينمآ أعلم ›...</td>\n",
       "    </tr>\n",
       "    <tr>\n",
       "      <th>1992</th>\n",
       "      <td>pos</td>\n",
       "      <td>مساء الخير لجميع السناقل  اما الباقين خل حب حي...</td>\n",
       "    </tr>\n",
       "  </tbody>\n",
       "</table>\n",
       "</div>"
      ],
      "text/plain": [
       "     Type                                              Tweet\n",
       "1771  pos                              السبت الأخير للدوام 😌\n",
       "496   pos  قوتنا بعد الله دائما أنتم🌹💙 الف مبرووك 💙 الحمد...\n",
       "526   pos  والله الاتحادي كل يوم يشجع فريق 😂 عشان فريقه م...\n",
       "680   pos  آعشق : نظراتگ المختلسهہ ♡  تحديدا حينمآ أعلم ›...\n",
       "1992  pos  مساء الخير لجميع السناقل  اما الباقين خل حب حي..."
      ]
     },
     "execution_count": 66,
     "metadata": {},
     "output_type": "execute_result"
    }
   ],
   "source": [
    "data.head()"
   ]
  },
  {
   "cell_type": "code",
   "execution_count": 67,
   "metadata": {
    "id": "qcGL-XUYxdp8"
   },
   "outputs": [],
   "source": [
    "arabic_punctuations = '''`÷×؛<>_()*&^%][ـ،/:\"؟.,'{}~¦+|!”…“–ـ'''\n",
    "english_punctuations = string.punctuation\n",
    "punctuations_list = arabic_punctuations + english_punctuations"
   ]
  },
  {
   "cell_type": "code",
   "execution_count": 68,
   "metadata": {
    "id": "hf-B96gcxdp8"
   },
   "outputs": [],
   "source": [
    "# Remove_punctuations :\n",
    "def remove_punctuations(text):\n",
    "    translator = str.maketrans('', '', punctuations_list)\n",
    "    return text.translate(translator)"
   ]
  },
  {
   "cell_type": "code",
   "execution_count": 69,
   "metadata": {
    "id": "RNn2UCYGxdp9"
   },
   "outputs": [],
   "source": [
    "# Normalize_arabic : \n",
    "def normalize_arabic(text):\n",
    "    text = re.sub(\"[إأآا]\", \"ا\", text)\n",
    "    text = re.sub(\"ى\", \"ي\", text)\n",
    "    text = re.sub(\"ة\", \"ه\", text)\n",
    "    text = re.sub(\"گ\", \"ك\", text)\n",
    "    return text"
   ]
  },
  {
   "cell_type": "code",
   "execution_count": 70,
   "metadata": {
    "id": "PSUO9Cl5xdp9"
   },
   "outputs": [],
   "source": [
    "# Remove_repeating_char: \n",
    "def remove_repeating_char(text):\n",
    "    return re.sub(r'(.)\\1+', r'\\1', text)"
   ]
  },
  {
   "cell_type": "code",
   "execution_count": 71,
   "metadata": {
    "id": "Ia-6wZRfxdp-"
   },
   "outputs": [],
   "source": [
    "#processPost for applying all functions \n",
    "def processPost(tweet):\n",
    "\n",
    "    # Replace @username with empty string\n",
    "    tweet = re.sub('@[^\\s]+', ' ', tweet)\n",
    "\n",
    "    # Convert www.* or https?://* to \" \"\n",
    "    tweet = re.sub('((www\\.[^\\s]+)|(https?://[^\\s]+))', ' ', tweet)\n",
    "\n",
    "    # Replace #word with word\n",
    "    tweet = re.sub(r'#([^\\s]+)', r'\\1', tweet)\n",
    "\n",
    "    # remove punctuations\n",
    "    tweet = remove_punctuations(tweet)\n",
    "\n",
    "    # normalize the tweet\n",
    "    #tweet= normalize_arabic(tweet)\n",
    "\n",
    "    # remove repeated letters\n",
    "    tweet = remove_repeating_char(tweet)\n",
    "\n",
    "    return tweet"
   ]
  },
  {
   "cell_type": "code",
   "execution_count": 73,
   "metadata": {
    "id": "FF8CqphZxdp-"
   },
   "outputs": [],
   "source": [
    "# Applying processPost function for preprocessing \n",
    "data[\"Tweet\"] = data[\"Tweet\"].apply(lambda x: processPost(x))"
   ]
  },
  {
   "cell_type": "code",
   "execution_count": 74,
   "metadata": {
    "id": "VAZSFNzAxdp_"
   },
   "outputs": [],
   "source": [
    "# Getting Tokenize the tweet text \n",
    "tokenizer = RegexpTokenizer(r'\\w+')\n",
    "data[\"Tweet\"] = data[\"Tweet\"].apply(tokenizer.tokenize)"
   ]
  },
  {
   "cell_type": "code",
   "execution_count": 75,
   "metadata": {
    "id": "NdGS_g-sxdp_",
    "outputId": "5d4cd452-a16d-4917-8b28-5dc3bc2f8fb8"
   },
   "outputs": [
    {
     "data": {
      "text/plain": [
       "1771                               [السبت, الأخير, لدوام]\n",
       "496     [قوتنا, بعد, اله, دائما, أنتم, الف, مبروك, الح...\n",
       "526     [واله, الاتحادي, كل, يوم, يشجع, فريق, عشان, فر...\n",
       "680     [آعشق, نظراتگ, المختلسهہ, تحديدا, حينمآ, أعلم,...\n",
       "1992    [مساء, الخير, لجميع, السناقل, اما, الباقين, خل...\n",
       "Name: Tweet, dtype: object"
      ]
     },
     "execution_count": 75,
     "metadata": {},
     "output_type": "execute_result"
    }
   ],
   "source": [
    "data[\"Tweet\"].head()"
   ]
  },
  {
   "cell_type": "code",
   "execution_count": 76,
   "metadata": {
    "id": "LJt3bx5Cxdp_",
    "outputId": "6b72f3a4-cc6d-4f57-9170-6019e359a6bc"
   },
   "outputs": [
    {
     "name": "stderr",
     "output_type": "stream",
     "text": [
      "[nltk_data] Downloading package stopwords to\n",
      "[nltk_data]     C:\\Users\\emada\\AppData\\Roaming\\nltk_data...\n",
      "[nltk_data]   Package stopwords is already up-to-date!\n"
     ]
    },
    {
     "data": {
      "text/plain": [
       "True"
      ]
     },
     "execution_count": 76,
     "metadata": {},
     "output_type": "execute_result"
    }
   ],
   "source": [
    "# Stop words :\n",
    "nltk.download('stopwords')"
   ]
  },
  {
   "cell_type": "code",
   "execution_count": 77,
   "metadata": {
    "id": "QExHNupZxdp_"
   },
   "outputs": [],
   "source": [
    "stopwords_list = stopwords.words('arabic')"
   ]
  },
  {
   "cell_type": "code",
   "execution_count": 78,
   "metadata": {
    "id": "zvBfWRO9xdqA",
    "outputId": "3892a571-60b2-41da-a475-5d7f92f5c2f5"
   },
   "outputs": [
    {
     "data": {
      "text/plain": [
       "['إذ',\n",
       " 'إذا',\n",
       " 'إذما',\n",
       " 'إذن',\n",
       " 'أف',\n",
       " 'أقل',\n",
       " 'أكثر',\n",
       " 'ألا',\n",
       " 'إلا',\n",
       " 'التي',\n",
       " 'الذي',\n",
       " 'الذين',\n",
       " 'اللاتي',\n",
       " 'اللائي',\n",
       " 'اللتان',\n",
       " 'اللتيا',\n",
       " 'اللتين',\n",
       " 'اللذان',\n",
       " 'اللذين',\n",
       " 'اللواتي',\n",
       " 'إلى',\n",
       " 'إليك',\n",
       " 'إليكم',\n",
       " 'إليكما',\n",
       " 'إليكن',\n",
       " 'أم',\n",
       " 'أما',\n",
       " 'أما',\n",
       " 'إما',\n",
       " 'أن',\n",
       " 'إن',\n",
       " 'إنا',\n",
       " 'أنا',\n",
       " 'أنت',\n",
       " 'أنتم',\n",
       " 'أنتما',\n",
       " 'أنتن',\n",
       " 'إنما',\n",
       " 'إنه',\n",
       " 'أنى',\n",
       " 'أنى',\n",
       " 'آه',\n",
       " 'آها',\n",
       " 'أو',\n",
       " 'أولاء',\n",
       " 'أولئك',\n",
       " 'أوه',\n",
       " 'آي',\n",
       " 'أي',\n",
       " 'أيها',\n",
       " 'إي',\n",
       " 'أين',\n",
       " 'أين',\n",
       " 'أينما',\n",
       " 'إيه',\n",
       " 'بخ',\n",
       " 'بس',\n",
       " 'بعد',\n",
       " 'بعض',\n",
       " 'بك',\n",
       " 'بكم',\n",
       " 'بكم',\n",
       " 'بكما',\n",
       " 'بكن',\n",
       " 'بل',\n",
       " 'بلى',\n",
       " 'بما',\n",
       " 'بماذا',\n",
       " 'بمن',\n",
       " 'بنا',\n",
       " 'به',\n",
       " 'بها',\n",
       " 'بهم',\n",
       " 'بهما',\n",
       " 'بهن',\n",
       " 'بي',\n",
       " 'بين',\n",
       " 'بيد',\n",
       " 'تلك',\n",
       " 'تلكم',\n",
       " 'تلكما',\n",
       " 'ته',\n",
       " 'تي',\n",
       " 'تين',\n",
       " 'تينك',\n",
       " 'ثم',\n",
       " 'ثمة',\n",
       " 'حاشا',\n",
       " 'حبذا',\n",
       " 'حتى',\n",
       " 'حيث',\n",
       " 'حيثما',\n",
       " 'حين',\n",
       " 'خلا',\n",
       " 'دون',\n",
       " 'ذا',\n",
       " 'ذات',\n",
       " 'ذاك',\n",
       " 'ذان',\n",
       " 'ذانك',\n",
       " 'ذلك',\n",
       " 'ذلكم',\n",
       " 'ذلكما',\n",
       " 'ذلكن',\n",
       " 'ذه',\n",
       " 'ذو',\n",
       " 'ذوا',\n",
       " 'ذواتا',\n",
       " 'ذواتي',\n",
       " 'ذي',\n",
       " 'ذين',\n",
       " 'ذينك',\n",
       " 'ريث',\n",
       " 'سوف',\n",
       " 'سوى',\n",
       " 'شتان',\n",
       " 'عدا',\n",
       " 'عسى',\n",
       " 'عل',\n",
       " 'على',\n",
       " 'عليك',\n",
       " 'عليه',\n",
       " 'عما',\n",
       " 'عن',\n",
       " 'عند',\n",
       " 'غير',\n",
       " 'فإذا',\n",
       " 'فإن',\n",
       " 'فلا',\n",
       " 'فمن',\n",
       " 'في',\n",
       " 'فيم',\n",
       " 'فيما',\n",
       " 'فيه',\n",
       " 'فيها',\n",
       " 'قد',\n",
       " 'كأن',\n",
       " 'كأنما',\n",
       " 'كأي',\n",
       " 'كأين',\n",
       " 'كذا',\n",
       " 'كذلك',\n",
       " 'كل',\n",
       " 'كلا',\n",
       " 'كلاهما',\n",
       " 'كلتا',\n",
       " 'كلما',\n",
       " 'كليكما',\n",
       " 'كليهما',\n",
       " 'كم',\n",
       " 'كم',\n",
       " 'كما',\n",
       " 'كي',\n",
       " 'كيت',\n",
       " 'كيف',\n",
       " 'كيفما',\n",
       " 'لا',\n",
       " 'لاسيما',\n",
       " 'لدى',\n",
       " 'لست',\n",
       " 'لستم',\n",
       " 'لستما',\n",
       " 'لستن',\n",
       " 'لسن',\n",
       " 'لسنا',\n",
       " 'لعل',\n",
       " 'لك',\n",
       " 'لكم',\n",
       " 'لكما',\n",
       " 'لكن',\n",
       " 'لكنما',\n",
       " 'لكي',\n",
       " 'لكيلا',\n",
       " 'لم',\n",
       " 'لما',\n",
       " 'لن',\n",
       " 'لنا',\n",
       " 'له',\n",
       " 'لها',\n",
       " 'لهم',\n",
       " 'لهما',\n",
       " 'لهن',\n",
       " 'لو',\n",
       " 'لولا',\n",
       " 'لوما',\n",
       " 'لي',\n",
       " 'لئن',\n",
       " 'ليت',\n",
       " 'ليس',\n",
       " 'ليسا',\n",
       " 'ليست',\n",
       " 'ليستا',\n",
       " 'ليسوا',\n",
       " 'ما',\n",
       " 'ماذا',\n",
       " 'متى',\n",
       " 'مذ',\n",
       " 'مع',\n",
       " 'مما',\n",
       " 'ممن',\n",
       " 'من',\n",
       " 'منه',\n",
       " 'منها',\n",
       " 'منذ',\n",
       " 'مه',\n",
       " 'مهما',\n",
       " 'نحن',\n",
       " 'نحو',\n",
       " 'نعم',\n",
       " 'ها',\n",
       " 'هاتان',\n",
       " 'هاته',\n",
       " 'هاتي',\n",
       " 'هاتين',\n",
       " 'هاك',\n",
       " 'هاهنا',\n",
       " 'هذا',\n",
       " 'هذان',\n",
       " 'هذه',\n",
       " 'هذي',\n",
       " 'هذين',\n",
       " 'هكذا',\n",
       " 'هل',\n",
       " 'هلا',\n",
       " 'هم',\n",
       " 'هما',\n",
       " 'هن',\n",
       " 'هنا',\n",
       " 'هناك',\n",
       " 'هنالك',\n",
       " 'هو',\n",
       " 'هؤلاء',\n",
       " 'هي',\n",
       " 'هيا',\n",
       " 'هيت',\n",
       " 'هيهات',\n",
       " 'والذي',\n",
       " 'والذين',\n",
       " 'وإذ',\n",
       " 'وإذا',\n",
       " 'وإن',\n",
       " 'ولا',\n",
       " 'ولكن',\n",
       " 'ولو',\n",
       " 'وما',\n",
       " 'ومن',\n",
       " 'وهو',\n",
       " 'يا',\n",
       " 'أبٌ',\n",
       " 'أخٌ',\n",
       " 'حمٌ',\n",
       " 'فو',\n",
       " 'أنتِ',\n",
       " 'يناير',\n",
       " 'فبراير',\n",
       " 'مارس',\n",
       " 'أبريل',\n",
       " 'مايو',\n",
       " 'يونيو',\n",
       " 'يوليو',\n",
       " 'أغسطس',\n",
       " 'سبتمبر',\n",
       " 'أكتوبر',\n",
       " 'نوفمبر',\n",
       " 'ديسمبر',\n",
       " 'جانفي',\n",
       " 'فيفري',\n",
       " 'مارس',\n",
       " 'أفريل',\n",
       " 'ماي',\n",
       " 'جوان',\n",
       " 'جويلية',\n",
       " 'أوت',\n",
       " 'كانون',\n",
       " 'شباط',\n",
       " 'آذار',\n",
       " 'نيسان',\n",
       " 'أيار',\n",
       " 'حزيران',\n",
       " 'تموز',\n",
       " 'آب',\n",
       " 'أيلول',\n",
       " 'تشرين',\n",
       " 'دولار',\n",
       " 'دينار',\n",
       " 'ريال',\n",
       " 'درهم',\n",
       " 'ليرة',\n",
       " 'جنيه',\n",
       " 'قرش',\n",
       " 'مليم',\n",
       " 'فلس',\n",
       " 'هللة',\n",
       " 'سنتيم',\n",
       " 'يورو',\n",
       " 'ين',\n",
       " 'يوان',\n",
       " 'شيكل',\n",
       " 'واحد',\n",
       " 'اثنان',\n",
       " 'ثلاثة',\n",
       " 'أربعة',\n",
       " 'خمسة',\n",
       " 'ستة',\n",
       " 'سبعة',\n",
       " 'ثمانية',\n",
       " 'تسعة',\n",
       " 'عشرة',\n",
       " 'أحد',\n",
       " 'اثنا',\n",
       " 'اثني',\n",
       " 'إحدى',\n",
       " 'ثلاث',\n",
       " 'أربع',\n",
       " 'خمس',\n",
       " 'ست',\n",
       " 'سبع',\n",
       " 'ثماني',\n",
       " 'تسع',\n",
       " 'عشر',\n",
       " 'ثمان',\n",
       " 'سبت',\n",
       " 'أحد',\n",
       " 'اثنين',\n",
       " 'ثلاثاء',\n",
       " 'أربعاء',\n",
       " 'خميس',\n",
       " 'جمعة',\n",
       " 'أول',\n",
       " 'ثان',\n",
       " 'ثاني',\n",
       " 'ثالث',\n",
       " 'رابع',\n",
       " 'خامس',\n",
       " 'سادس',\n",
       " 'سابع',\n",
       " 'ثامن',\n",
       " 'تاسع',\n",
       " 'عاشر',\n",
       " 'حادي',\n",
       " 'أ',\n",
       " 'ب',\n",
       " 'ت',\n",
       " 'ث',\n",
       " 'ج',\n",
       " 'ح',\n",
       " 'خ',\n",
       " 'د',\n",
       " 'ذ',\n",
       " 'ر',\n",
       " 'ز',\n",
       " 'س',\n",
       " 'ش',\n",
       " 'ص',\n",
       " 'ض',\n",
       " 'ط',\n",
       " 'ظ',\n",
       " 'ع',\n",
       " 'غ',\n",
       " 'ف',\n",
       " 'ق',\n",
       " 'ك',\n",
       " 'ل',\n",
       " 'م',\n",
       " 'ن',\n",
       " 'ه',\n",
       " 'و',\n",
       " 'ي',\n",
       " 'ء',\n",
       " 'ى',\n",
       " 'آ',\n",
       " 'ؤ',\n",
       " 'ئ',\n",
       " 'أ',\n",
       " 'ة',\n",
       " 'ألف',\n",
       " 'باء',\n",
       " 'تاء',\n",
       " 'ثاء',\n",
       " 'جيم',\n",
       " 'حاء',\n",
       " 'خاء',\n",
       " 'دال',\n",
       " 'ذال',\n",
       " 'راء',\n",
       " 'زاي',\n",
       " 'سين',\n",
       " 'شين',\n",
       " 'صاد',\n",
       " 'ضاد',\n",
       " 'طاء',\n",
       " 'ظاء',\n",
       " 'عين',\n",
       " 'غين',\n",
       " 'فاء',\n",
       " 'قاف',\n",
       " 'كاف',\n",
       " 'لام',\n",
       " 'ميم',\n",
       " 'نون',\n",
       " 'هاء',\n",
       " 'واو',\n",
       " 'ياء',\n",
       " 'همزة',\n",
       " 'ي',\n",
       " 'نا',\n",
       " 'ك',\n",
       " 'كن',\n",
       " 'ه',\n",
       " 'إياه',\n",
       " 'إياها',\n",
       " 'إياهما',\n",
       " 'إياهم',\n",
       " 'إياهن',\n",
       " 'إياك',\n",
       " 'إياكما',\n",
       " 'إياكم',\n",
       " 'إياك',\n",
       " 'إياكن',\n",
       " 'إياي',\n",
       " 'إيانا',\n",
       " 'أولالك',\n",
       " 'تانِ',\n",
       " 'تانِك',\n",
       " 'تِه',\n",
       " 'تِي',\n",
       " 'تَيْنِ',\n",
       " 'ثمّ',\n",
       " 'ثمّة',\n",
       " 'ذانِ',\n",
       " 'ذِه',\n",
       " 'ذِي',\n",
       " 'ذَيْنِ',\n",
       " 'هَؤلاء',\n",
       " 'هَاتانِ',\n",
       " 'هَاتِه',\n",
       " 'هَاتِي',\n",
       " 'هَاتَيْنِ',\n",
       " 'هَذا',\n",
       " 'هَذانِ',\n",
       " 'هَذِه',\n",
       " 'هَذِي',\n",
       " 'هَذَيْنِ',\n",
       " 'الألى',\n",
       " 'الألاء',\n",
       " 'أل',\n",
       " 'أنّى',\n",
       " 'أيّ',\n",
       " 'ّأيّان',\n",
       " 'أنّى',\n",
       " 'أيّ',\n",
       " 'ّأيّان',\n",
       " 'ذيت',\n",
       " 'كأيّ',\n",
       " 'كأيّن',\n",
       " 'بضع',\n",
       " 'فلان',\n",
       " 'وا',\n",
       " 'آمينَ',\n",
       " 'آهِ',\n",
       " 'آهٍ',\n",
       " 'آهاً',\n",
       " 'أُفٍّ',\n",
       " 'أُفٍّ',\n",
       " 'أفٍّ',\n",
       " 'أمامك',\n",
       " 'أمامكَ',\n",
       " 'أوّهْ',\n",
       " 'إلَيْكَ',\n",
       " 'إلَيْكَ',\n",
       " 'إليكَ',\n",
       " 'إليكنّ',\n",
       " 'إيهٍ',\n",
       " 'بخٍ',\n",
       " 'بسّ',\n",
       " 'بَسْ',\n",
       " 'بطآن',\n",
       " 'بَلْهَ',\n",
       " 'حاي',\n",
       " 'حَذارِ',\n",
       " 'حيَّ',\n",
       " 'حيَّ',\n",
       " 'دونك',\n",
       " 'رويدك',\n",
       " 'سرعان',\n",
       " 'شتانَ',\n",
       " 'شَتَّانَ',\n",
       " 'صهْ',\n",
       " 'صهٍ',\n",
       " 'طاق',\n",
       " 'طَق',\n",
       " 'عَدَسْ',\n",
       " 'كِخ',\n",
       " 'مكانَك',\n",
       " 'مكانَك',\n",
       " 'مكانَك',\n",
       " 'مكانكم',\n",
       " 'مكانكما',\n",
       " 'مكانكنّ',\n",
       " 'نَخْ',\n",
       " 'هاكَ',\n",
       " 'هَجْ',\n",
       " 'هلم',\n",
       " 'هيّا',\n",
       " 'هَيْهات',\n",
       " 'وا',\n",
       " 'واهاً',\n",
       " 'وراءَك',\n",
       " 'وُشْكَانَ',\n",
       " 'وَيْ',\n",
       " 'يفعلان',\n",
       " 'تفعلان',\n",
       " 'يفعلون',\n",
       " 'تفعلون',\n",
       " 'تفعلين',\n",
       " 'اتخذ',\n",
       " 'ألفى',\n",
       " 'تخذ',\n",
       " 'ترك',\n",
       " 'تعلَّم',\n",
       " 'جعل',\n",
       " 'حجا',\n",
       " 'حبيب',\n",
       " 'خال',\n",
       " 'حسب',\n",
       " 'خال',\n",
       " 'درى',\n",
       " 'رأى',\n",
       " 'زعم',\n",
       " 'صبر',\n",
       " 'ظنَّ',\n",
       " 'عدَّ',\n",
       " 'علم',\n",
       " 'غادر',\n",
       " 'ذهب',\n",
       " 'وجد',\n",
       " 'ورد',\n",
       " 'وهب',\n",
       " 'أسكن',\n",
       " 'أطعم',\n",
       " 'أعطى',\n",
       " 'رزق',\n",
       " 'زود',\n",
       " 'سقى',\n",
       " 'كسا',\n",
       " 'أخبر',\n",
       " 'أرى',\n",
       " 'أعلم',\n",
       " 'أنبأ',\n",
       " 'حدَث',\n",
       " 'خبَّر',\n",
       " 'نبَّا',\n",
       " 'أفعل به',\n",
       " 'ما أفعله',\n",
       " 'بئس',\n",
       " 'ساء',\n",
       " 'طالما',\n",
       " 'قلما',\n",
       " 'لات',\n",
       " 'لكنَّ',\n",
       " 'ءَ',\n",
       " 'أجل',\n",
       " 'إذاً',\n",
       " 'أمّا',\n",
       " 'إمّا',\n",
       " 'إنَّ',\n",
       " 'أنًّ',\n",
       " 'أى',\n",
       " 'إى',\n",
       " 'أيا',\n",
       " 'ب',\n",
       " 'ثمَّ',\n",
       " 'جلل',\n",
       " 'جير',\n",
       " 'رُبَّ',\n",
       " 'س',\n",
       " 'علًّ',\n",
       " 'ف',\n",
       " 'كأنّ',\n",
       " 'كلَّا',\n",
       " 'كى',\n",
       " 'ل',\n",
       " 'لات',\n",
       " 'لعلَّ',\n",
       " 'لكنَّ',\n",
       " 'لكنَّ',\n",
       " 'م',\n",
       " 'نَّ',\n",
       " 'هلّا',\n",
       " 'وا',\n",
       " 'أل',\n",
       " 'إلّا',\n",
       " 'ت',\n",
       " 'ك',\n",
       " 'لمّا',\n",
       " 'ن',\n",
       " 'ه',\n",
       " 'و',\n",
       " 'ا',\n",
       " 'ي',\n",
       " 'تجاه',\n",
       " 'تلقاء',\n",
       " 'جميع',\n",
       " 'حسب',\n",
       " 'سبحان',\n",
       " 'شبه',\n",
       " 'لعمر',\n",
       " 'مثل',\n",
       " 'معاذ',\n",
       " 'أبو',\n",
       " 'أخو',\n",
       " 'حمو',\n",
       " 'فو',\n",
       " 'مئة',\n",
       " 'مئتان',\n",
       " 'ثلاثمئة',\n",
       " 'أربعمئة',\n",
       " 'خمسمئة',\n",
       " 'ستمئة',\n",
       " 'سبعمئة',\n",
       " 'ثمنمئة',\n",
       " 'تسعمئة',\n",
       " 'مائة',\n",
       " 'ثلاثمائة',\n",
       " 'أربعمائة',\n",
       " 'خمسمائة',\n",
       " 'ستمائة',\n",
       " 'سبعمائة',\n",
       " 'ثمانمئة',\n",
       " 'تسعمائة',\n",
       " 'عشرون',\n",
       " 'ثلاثون',\n",
       " 'اربعون',\n",
       " 'خمسون',\n",
       " 'ستون',\n",
       " 'سبعون',\n",
       " 'ثمانون',\n",
       " 'تسعون',\n",
       " 'عشرين',\n",
       " 'ثلاثين',\n",
       " 'اربعين',\n",
       " 'خمسين',\n",
       " 'ستين',\n",
       " 'سبعين',\n",
       " 'ثمانين',\n",
       " 'تسعين',\n",
       " 'بضع',\n",
       " 'نيف',\n",
       " 'أجمع',\n",
       " 'جميع',\n",
       " 'عامة',\n",
       " 'عين',\n",
       " 'نفس',\n",
       " 'لا سيما',\n",
       " 'أصلا',\n",
       " 'أهلا',\n",
       " 'أيضا',\n",
       " 'بؤسا',\n",
       " 'بعدا',\n",
       " 'بغتة',\n",
       " 'تعسا',\n",
       " 'حقا',\n",
       " 'حمدا',\n",
       " 'خلافا',\n",
       " 'خاصة',\n",
       " 'دواليك',\n",
       " 'سحقا',\n",
       " 'سرا',\n",
       " 'سمعا',\n",
       " 'صبرا',\n",
       " 'صدقا',\n",
       " 'صراحة',\n",
       " 'طرا',\n",
       " 'عجبا',\n",
       " 'عيانا',\n",
       " 'غالبا',\n",
       " 'فرادى',\n",
       " 'فضلا',\n",
       " 'قاطبة',\n",
       " 'كثيرا',\n",
       " 'لبيك',\n",
       " 'معاذ',\n",
       " 'أبدا',\n",
       " 'إزاء',\n",
       " 'أصلا',\n",
       " 'الآن',\n",
       " 'أمد',\n",
       " 'أمس',\n",
       " 'آنفا',\n",
       " 'آناء',\n",
       " 'أنّى',\n",
       " 'أول',\n",
       " 'أيّان',\n",
       " 'تارة',\n",
       " 'ثمّ',\n",
       " 'ثمّة',\n",
       " 'حقا',\n",
       " 'صباح',\n",
       " 'مساء',\n",
       " 'ضحوة',\n",
       " 'عوض',\n",
       " 'غدا',\n",
       " 'غداة',\n",
       " 'قطّ',\n",
       " 'كلّما',\n",
       " 'لدن',\n",
       " 'لمّا',\n",
       " 'مرّة',\n",
       " 'قبل',\n",
       " 'خلف',\n",
       " 'أمام',\n",
       " 'فوق',\n",
       " 'تحت',\n",
       " 'يمين',\n",
       " 'شمال',\n",
       " 'ارتدّ',\n",
       " 'استحال',\n",
       " 'أصبح',\n",
       " 'أضحى',\n",
       " 'آض',\n",
       " 'أمسى',\n",
       " 'انقلب',\n",
       " 'بات',\n",
       " 'تبدّل',\n",
       " 'تحوّل',\n",
       " 'حار',\n",
       " 'رجع',\n",
       " 'راح',\n",
       " 'صار',\n",
       " 'ظلّ',\n",
       " 'عاد',\n",
       " 'غدا',\n",
       " 'كان',\n",
       " 'ما انفك',\n",
       " 'ما برح',\n",
       " 'مادام',\n",
       " 'مازال',\n",
       " 'مافتئ',\n",
       " 'ابتدأ',\n",
       " 'أخذ',\n",
       " 'اخلولق',\n",
       " 'أقبل',\n",
       " 'انبرى',\n",
       " 'أنشأ',\n",
       " 'أوشك',\n",
       " 'جعل',\n",
       " 'حرى',\n",
       " 'شرع',\n",
       " 'طفق',\n",
       " 'علق',\n",
       " 'قام',\n",
       " 'كرب',\n",
       " 'كاد',\n",
       " 'هبّ']"
      ]
     },
     "execution_count": 78,
     "metadata": {},
     "output_type": "execute_result"
    }
   ],
   "source": [
    "stopwords_list"
   ]
  },
  {
   "cell_type": "code",
   "execution_count": 79,
   "metadata": {
    "id": "ByRYLxFRxdqA",
    "outputId": "76cc8e43-2975-4c0b-df07-a571dd75bfc2"
   },
   "outputs": [
    {
     "name": "stdout",
     "output_type": "stream",
     "text": [
      "754\n"
     ]
    }
   ],
   "source": [
    "print(len(stopwords_list))"
   ]
  },
  {
   "cell_type": "code",
   "execution_count": 80,
   "metadata": {
    "id": "wywHHGGKxdqA",
    "outputId": "69598436-ede0-4602-f3b5-5968ad996f18"
   },
   "outputs": [
    {
     "name": "stdout",
     "output_type": "stream",
     "text": [
      "<class 'list'>\n"
     ]
    }
   ],
   "source": [
    "print(type(stopwords_list))"
   ]
  },
  {
   "cell_type": "code",
   "execution_count": 81,
   "metadata": {
    "id": "Mc5DNwo5xdqB"
   },
   "outputs": [],
   "source": [
    "listToStr = ' '.join([str(elem) for elem in stopwords_list])"
   ]
  },
  {
   "cell_type": "code",
   "execution_count": 82,
   "metadata": {
    "id": "Pvdb6zimxdqB",
    "outputId": "d3c580cf-c965-4925-8d63-57266b6ff1c3"
   },
   "outputs": [
    {
     "data": {
      "text/plain": [
       "'إذ إذا إذما إذن أف أقل أكثر ألا إلا التي الذي الذين اللاتي اللائي اللتان اللتيا اللتين اللذان اللذين اللواتي إلى إليك إليكم إليكما إليكن أم أما أما إما أن إن إنا أنا أنت أنتم أنتما أنتن إنما إنه أنى أنى آه آها أو أولاء أولئك أوه آي أي أيها إي أين أين أينما إيه بخ بس بعد بعض بك بكم بكم بكما بكن بل بلى بما بماذا بمن بنا به بها بهم بهما بهن بي بين بيد تلك تلكم تلكما ته تي تين تينك ثم ثمة حاشا حبذا حتى حيث حيثما حين خلا دون ذا ذات ذاك ذان ذانك ذلك ذلكم ذلكما ذلكن ذه ذو ذوا ذواتا ذواتي ذي ذين ذينك ريث سوف سوى شتان عدا عسى عل على عليك عليه عما عن عند غير فإذا فإن فلا فمن في فيم فيما فيه فيها قد كأن كأنما كأي كأين كذا كذلك كل كلا كلاهما كلتا كلما كليكما كليهما كم كم كما كي كيت كيف كيفما لا لاسيما لدى لست لستم لستما لستن لسن لسنا لعل لك لكم لكما لكن لكنما لكي لكيلا لم لما لن لنا له لها لهم لهما لهن لو لولا لوما لي لئن ليت ليس ليسا ليست ليستا ليسوا ما ماذا متى مذ مع مما ممن من منه منها منذ مه مهما نحن نحو نعم ها هاتان هاته هاتي هاتين هاك هاهنا هذا هذان هذه هذي هذين هكذا هل هلا هم هما هن هنا هناك هنالك هو هؤلاء هي هيا هيت هيهات والذي والذين وإذ وإذا وإن ولا ولكن ولو وما ومن وهو يا أبٌ أخٌ حمٌ فو أنتِ يناير فبراير مارس أبريل مايو يونيو يوليو أغسطس سبتمبر أكتوبر نوفمبر ديسمبر جانفي فيفري مارس أفريل ماي جوان جويلية أوت كانون شباط آذار نيسان أيار حزيران تموز آب أيلول تشرين دولار دينار ريال درهم ليرة جنيه قرش مليم فلس هللة سنتيم يورو ين يوان شيكل واحد اثنان ثلاثة أربعة خمسة ستة سبعة ثمانية تسعة عشرة أحد اثنا اثني إحدى ثلاث أربع خمس ست سبع ثماني تسع عشر ثمان سبت أحد اثنين ثلاثاء أربعاء خميس جمعة أول ثان ثاني ثالث رابع خامس سادس سابع ثامن تاسع عاشر حادي أ ب ت ث ج ح خ د ذ ر ز س ش ص ض ط ظ ع غ ف ق ك ل م ن ه و ي ء ى آ ؤ ئ أ ة ألف باء تاء ثاء جيم حاء خاء دال ذال راء زاي سين شين صاد ضاد طاء ظاء عين غين فاء قاف كاف لام ميم نون هاء واو ياء همزة ي نا ك كن ه إياه إياها إياهما إياهم إياهن إياك إياكما إياكم إياك إياكن إياي إيانا أولالك تانِ تانِك تِه تِي تَيْنِ ثمّ ثمّة ذانِ ذِه ذِي ذَيْنِ هَؤلاء هَاتانِ هَاتِه هَاتِي هَاتَيْنِ هَذا هَذانِ هَذِه هَذِي هَذَيْنِ الألى الألاء أل أنّى أيّ ّأيّان أنّى أيّ ّأيّان ذيت كأيّ كأيّن بضع فلان وا آمينَ آهِ آهٍ آهاً أُفٍّ أُفٍّ أفٍّ أمامك أمامكَ أوّهْ إلَيْكَ إلَيْكَ إليكَ إليكنّ إيهٍ بخٍ بسّ بَسْ بطآن بَلْهَ حاي حَذارِ حيَّ حيَّ دونك رويدك سرعان شتانَ شَتَّانَ صهْ صهٍ طاق طَق عَدَسْ كِخ مكانَك مكانَك مكانَك مكانكم مكانكما مكانكنّ نَخْ هاكَ هَجْ هلم هيّا هَيْهات وا واهاً وراءَك وُشْكَانَ وَيْ يفعلان تفعلان يفعلون تفعلون تفعلين اتخذ ألفى تخذ ترك تعلَّم جعل حجا حبيب خال حسب خال درى رأى زعم صبر ظنَّ عدَّ علم غادر ذهب وجد ورد وهب أسكن أطعم أعطى رزق زود سقى كسا أخبر أرى أعلم أنبأ حدَث خبَّر نبَّا أفعل به ما أفعله بئس ساء طالما قلما لات لكنَّ ءَ أجل إذاً أمّا إمّا إنَّ أنًّ أى إى أيا ب ثمَّ جلل جير رُبَّ س علًّ ف كأنّ كلَّا كى ل لات لعلَّ لكنَّ لكنَّ م نَّ هلّا وا أل إلّا ت ك لمّا ن ه و ا ي تجاه تلقاء جميع حسب سبحان شبه لعمر مثل معاذ أبو أخو حمو فو مئة مئتان ثلاثمئة أربعمئة خمسمئة ستمئة سبعمئة ثمنمئة تسعمئة مائة ثلاثمائة أربعمائة خمسمائة ستمائة سبعمائة ثمانمئة تسعمائة عشرون ثلاثون اربعون خمسون ستون سبعون ثمانون تسعون عشرين ثلاثين اربعين خمسين ستين سبعين ثمانين تسعين بضع نيف أجمع جميع عامة عين نفس لا سيما أصلا أهلا أيضا بؤسا بعدا بغتة تعسا حقا حمدا خلافا خاصة دواليك سحقا سرا سمعا صبرا صدقا صراحة طرا عجبا عيانا غالبا فرادى فضلا قاطبة كثيرا لبيك معاذ أبدا إزاء أصلا الآن أمد أمس آنفا آناء أنّى أول أيّان تارة ثمّ ثمّة حقا صباح مساء ضحوة عوض غدا غداة قطّ كلّما لدن لمّا مرّة قبل خلف أمام فوق تحت يمين شمال ارتدّ استحال أصبح أضحى آض أمسى انقلب بات تبدّل تحوّل حار رجع راح صار ظلّ عاد غدا كان ما انفك ما برح مادام مازال مافتئ ابتدأ أخذ اخلولق أقبل انبرى أنشأ أوشك جعل حرى شرع طفق علق قام كرب كاد هبّ'"
      ]
     },
     "execution_count": 82,
     "metadata": {},
     "output_type": "execute_result"
    }
   ],
   "source": [
    "listToStr"
   ]
  },
  {
   "cell_type": "code",
   "execution_count": 83,
   "metadata": {
    "id": "DA5WwKr4xdqB"
   },
   "outputs": [],
   "source": [
    "# Removing stop words \n",
    "data['Tweet'] = data['Tweet'].apply(\n",
    "    lambda x: [item for item in x if item not in stopwords_list])"
   ]
  },
  {
   "cell_type": "code",
   "execution_count": 84,
   "metadata": {
    "id": "CMkJ-o-ExdqB"
   },
   "outputs": [],
   "source": [
    "# Tweet text information \n",
    "all_words = [word for tokens in data['Tweet'] for word in tokens]\n",
    "sentence_lengths = [len(tokens) for tokens in data['Tweet']]"
   ]
  },
  {
   "cell_type": "code",
   "execution_count": 85,
   "metadata": {
    "id": "TZmfrlzbxdqB"
   },
   "outputs": [],
   "source": [
    "VOCAB = sorted(list(set(all_words)))"
   ]
  },
  {
   "cell_type": "code",
   "execution_count": 86,
   "metadata": {
    "id": "kZZVbF8fxdqC",
    "outputId": "983f4822-2316-405e-bf02-b199ed59b360"
   },
   "outputs": [
    {
     "name": "stdout",
     "output_type": "stream",
     "text": [
      "83866 words total, with a vocabulary size of 26438\n",
      "Max sentence length is 818\n"
     ]
    }
   ],
   "source": [
    "print(\"%s words total, with a vocabulary size of %s\" %\n",
    "      (len(all_words), len(VOCAB)))\n",
    "print(\"Max sentence length is %s\" % max(sentence_lengths))"
   ]
  },
  {
   "cell_type": "markdown",
   "metadata": {
    "id": "hKbgho0OytNI"
   },
   "source": [
    "# Counter"
   ]
  },
  {
   "cell_type": "code",
   "execution_count": 87,
   "metadata": {
    "id": "Gb-MW0BwxdqC"
   },
   "outputs": [],
   "source": [
    "counter = Counter(all_words)"
   ]
  },
  {
   "cell_type": "code",
   "execution_count": 88,
   "metadata": {
    "id": "Oro8-5X7xdqC",
    "outputId": "7f0d27cb-db42-41ff-a64c-6d35544a85b8"
   },
   "outputs": [
    {
     "data": {
      "text/plain": [
       "[('اله', 1440),\n",
       " ('الهم', 574),\n",
       " ('pos', 562),\n",
       " ('الهلال', 362),\n",
       " ('الي', 349),\n",
       " ('الخير', 319),\n",
       " ('يارب', 274),\n",
       " ('انا', 271),\n",
       " ('واله', 264),\n",
       " ('رتويت', 264),\n",
       " ('ان', 249),\n",
       " ('السحب', 236),\n",
       " ('يوم', 223),\n",
       " ('سحب', 197),\n",
       " ('فوز', 179),\n",
       " ('النصر', 177),\n",
       " ('الناس', 173),\n",
       " ('قال', 173),\n",
       " ('الحمد', 172),\n",
       " ('مبروك', 158),\n",
       " ('اليوم', 157),\n",
       " ('شي', 151),\n",
       " ('بمناسبة', 149),\n",
       " ('خير', 145),\n",
       " ('ساعة', 143)]"
      ]
     },
     "execution_count": 88,
     "metadata": {},
     "output_type": "execute_result"
    }
   ],
   "source": [
    "counter.most_common(25)"
   ]
  },
  {
   "cell_type": "code",
   "execution_count": 89,
   "metadata": {
    "id": "hifPztPAxdqD"
   },
   "outputs": [],
   "source": [
    "counted_words = Counter(all_words)"
   ]
  },
  {
   "cell_type": "code",
   "execution_count": 90,
   "metadata": {
    "id": "6kye3Xt8xdqD"
   },
   "outputs": [],
   "source": [
    "#top 25 words in positive \n",
    "words = []\n",
    "counts = []\n",
    "for letter, count in counted_words.most_common(25):\n",
    "    words.append(letter)\n",
    "    counts.append(count)"
   ]
  },
  {
   "cell_type": "code",
   "execution_count": 91,
   "metadata": {
    "id": "WKh0FsjlxdqD",
    "outputId": "758e2530-e136-4bd8-e36e-7b21f0175ef1"
   },
   "outputs": [
    {
     "data": {
      "text/plain": [
       "<BarContainer object of 25 artists>"
      ]
     },
     "execution_count": 91,
     "metadata": {},
     "output_type": "execute_result"
    },
    {
     "data": {
      "image/png": "[encoded data removed]",
      "text/plain": [
       "<Figure size 1440x720 with 1 Axes>"
      ]
     },
     "metadata": {},
     "output_type": "display_data"
    }
   ],
   "source": [
    "colors = cm.rainbow(np.linspace(0, 1, 10))\n",
    "rcParams['figure.figsize'] = 20, 10\n",
    "\n",
    "plt.title('Top words in positive')\n",
    "plt.xlabel('Count')\n",
    "plt.ylabel('Words'bbB)\n",
    "plt.barh(words, counts, color=colors)"
   ]
  },
  {
   "cell_type": "markdown",
   "metadata": {},
   "source": [
    "# Binary Vectorizer"
   ]
  },
  {
   "cell_type": "code",
   "execution_count": 108,
   "metadata": {},
   "outputs": [],
   "source": [
    "word_vectorizer_Binary=CountVectorizer(\n",
    "    binary=True,\n",
    "    strip_accents='unicode',\n",
    "    analyzer='word',\n",
    "    ngram_range=(1, 1),\n",
    "    max_features=10000)"
   ]
  },
  {
   "cell_type": "code",
   "execution_count": 110,
   "metadata": {
    "scrolled": true
   },
   "outputs": [
    {
     "data": {
      "text/html": [
       "<div>\n",
       "<style scoped>\n",
       "    .dataframe tbody tr th:only-of-type {\n",
       "        vertical-align: middle;\n",
       "    }\n",
       "\n",
       "    .dataframe tbody tr th {\n",
       "        vertical-align: top;\n",
       "    }\n",
       "\n",
       "    .dataframe thead th {\n",
       "        text-align: right;\n",
       "    }\n",
       "</style>\n",
       "<table border=\"1\" class=\"dataframe\">\n",
       "  <thead>\n",
       "    <tr style=\"text-align: right;\">\n",
       "      <th></th>\n",
       "      <th>1953</th>\n",
       "      <th>30</th>\n",
       "      <th>40</th>\n",
       "      <th>412</th>\n",
       "      <th>413</th>\n",
       "      <th>419</th>\n",
       "      <th>50</th>\n",
       "      <th>ace10</th>\n",
       "      <th>alexaplay</th>\n",
       "      <th>at</th>\n",
       "      <th>...</th>\n",
       "      <th>ٱلعظيم</th>\n",
       "      <th>ٱني</th>\n",
       "      <th>ٲليس</th>\n",
       "      <th>ڪن</th>\n",
       "      <th>ڪيف</th>\n",
       "      <th>گل</th>\n",
       "      <th>گلنا</th>\n",
       "      <th>گم</th>\n",
       "      <th>گن</th>\n",
       "      <th>ھادي</th>\n",
       "    </tr>\n",
       "  </thead>\n",
       "  <tbody>\n",
       "    <tr>\n",
       "      <th>0</th>\n",
       "      <td>0</td>\n",
       "      <td>0</td>\n",
       "      <td>0</td>\n",
       "      <td>0</td>\n",
       "      <td>0</td>\n",
       "      <td>0</td>\n",
       "      <td>0</td>\n",
       "      <td>0</td>\n",
       "      <td>0</td>\n",
       "      <td>0</td>\n",
       "      <td>...</td>\n",
       "      <td>0</td>\n",
       "      <td>0</td>\n",
       "      <td>0</td>\n",
       "      <td>0</td>\n",
       "      <td>0</td>\n",
       "      <td>0</td>\n",
       "      <td>0</td>\n",
       "      <td>0</td>\n",
       "      <td>0</td>\n",
       "      <td>0</td>\n",
       "    </tr>\n",
       "    <tr>\n",
       "      <th>1</th>\n",
       "      <td>0</td>\n",
       "      <td>0</td>\n",
       "      <td>0</td>\n",
       "      <td>0</td>\n",
       "      <td>0</td>\n",
       "      <td>0</td>\n",
       "      <td>0</td>\n",
       "      <td>0</td>\n",
       "      <td>0</td>\n",
       "      <td>0</td>\n",
       "      <td>...</td>\n",
       "      <td>0</td>\n",
       "      <td>0</td>\n",
       "      <td>0</td>\n",
       "      <td>0</td>\n",
       "      <td>0</td>\n",
       "      <td>0</td>\n",
       "      <td>0</td>\n",
       "      <td>0</td>\n",
       "      <td>0</td>\n",
       "      <td>0</td>\n",
       "    </tr>\n",
       "    <tr>\n",
       "      <th>2</th>\n",
       "      <td>0</td>\n",
       "      <td>0</td>\n",
       "      <td>0</td>\n",
       "      <td>0</td>\n",
       "      <td>0</td>\n",
       "      <td>0</td>\n",
       "      <td>0</td>\n",
       "      <td>0</td>\n",
       "      <td>0</td>\n",
       "      <td>0</td>\n",
       "      <td>...</td>\n",
       "      <td>0</td>\n",
       "      <td>0</td>\n",
       "      <td>0</td>\n",
       "      <td>0</td>\n",
       "      <td>0</td>\n",
       "      <td>0</td>\n",
       "      <td>0</td>\n",
       "      <td>0</td>\n",
       "      <td>0</td>\n",
       "      <td>0</td>\n",
       "    </tr>\n",
       "    <tr>\n",
       "      <th>3</th>\n",
       "      <td>0</td>\n",
       "      <td>0</td>\n",
       "      <td>0</td>\n",
       "      <td>0</td>\n",
       "      <td>0</td>\n",
       "      <td>0</td>\n",
       "      <td>0</td>\n",
       "      <td>0</td>\n",
       "      <td>0</td>\n",
       "      <td>0</td>\n",
       "      <td>...</td>\n",
       "      <td>0</td>\n",
       "      <td>0</td>\n",
       "      <td>0</td>\n",
       "      <td>0</td>\n",
       "      <td>0</td>\n",
       "      <td>0</td>\n",
       "      <td>0</td>\n",
       "      <td>0</td>\n",
       "      <td>0</td>\n",
       "      <td>0</td>\n",
       "    </tr>\n",
       "    <tr>\n",
       "      <th>4</th>\n",
       "      <td>0</td>\n",
       "      <td>0</td>\n",
       "      <td>0</td>\n",
       "      <td>0</td>\n",
       "      <td>0</td>\n",
       "      <td>0</td>\n",
       "      <td>0</td>\n",
       "      <td>0</td>\n",
       "      <td>0</td>\n",
       "      <td>0</td>\n",
       "      <td>...</td>\n",
       "      <td>0</td>\n",
       "      <td>0</td>\n",
       "      <td>0</td>\n",
       "      <td>0</td>\n",
       "      <td>0</td>\n",
       "      <td>0</td>\n",
       "      <td>0</td>\n",
       "      <td>0</td>\n",
       "      <td>0</td>\n",
       "      <td>0</td>\n",
       "    </tr>\n",
       "  </tbody>\n",
       "</table>\n",
       "<p>5 rows × 10000 columns</p>\n",
       "</div>"
      ],
      "text/plain": [
       "   1953  30  40  412  413  419  50  ace10  alexaplay  at  ...  ٱلعظيم  ٱني  \\\n",
       "0     0   0   0    0    0    0   0      0          0   0  ...       0    0   \n",
       "1     0   0   0    0    0    0   0      0          0   0  ...       0    0   \n",
       "2     0   0   0    0    0    0   0      0          0   0  ...       0    0   \n",
       "3     0   0   0    0    0    0   0      0          0   0  ...       0    0   \n",
       "4     0   0   0    0    0    0   0      0          0   0  ...       0    0   \n",
       "\n",
       "   ٲليس  ڪن  ڪيف  گل  گلنا  گم  گن  ھادي  \n",
       "0     0   0    0   0     0   0   0     0  \n",
       "1     0   0    0   0     0   0   0     0  \n",
       "2     0   0    0   0     0   0   0     0  \n",
       "3     0   0    0   0     0   0   0     0  \n",
       "4     0   0    0   0     0   0   0     0  \n",
       "\n",
       "[5 rows x 10000 columns]"
      ]
     },
     "execution_count": 110,
     "metadata": {},
     "output_type": "execute_result"
    }
   ],
   "source": [
    "unigramdataGet1 = word_vectorizer_Binary.fit_transform(data['Tweet'].astype('str'))\n",
    "unigramdataGet1 = unigramdataGet1.toarray()\n",
    "\n",
    "vocab1 = word_vectorizer_Binary.get_feature_names()\n",
    "unigramdata_features1 = pd.DataFrame(np.round(unigramdataGet, 1), columns=vocab)\n",
    "unigramdata_features1[unigramdata_features > 0] = 1\n",
    "\n",
    "unigramdata_features1.head()"
   ]
  },
  {
   "cell_type": "markdown",
   "metadata": {},
   "source": [
    "# Count  Vectorizer"
   ]
  },
  {
   "cell_type": "code",
   "execution_count": 107,
   "metadata": {},
   "outputs": [],
   "source": [
    "word_vectorizer_Count=CountVectorizer(\n",
    "    binary=False,\n",
    "    strip_accents='unicode',\n",
    "    analyzer='word',\n",
    "    ngram_range=(1, 1),\n",
    "    max_features=10000)"
   ]
  },
  {
   "cell_type": "code",
   "execution_count": 111,
   "metadata": {},
   "outputs": [
    {
     "data": {
      "text/html": [
       "<div>\n",
       "<style scoped>\n",
       "    .dataframe tbody tr th:only-of-type {\n",
       "        vertical-align: middle;\n",
       "    }\n",
       "\n",
       "    .dataframe tbody tr th {\n",
       "        vertical-align: top;\n",
       "    }\n",
       "\n",
       "    .dataframe thead th {\n",
       "        text-align: right;\n",
       "    }\n",
       "</style>\n",
       "<table border=\"1\" class=\"dataframe\">\n",
       "  <thead>\n",
       "    <tr style=\"text-align: right;\">\n",
       "      <th></th>\n",
       "      <th>1953</th>\n",
       "      <th>30</th>\n",
       "      <th>40</th>\n",
       "      <th>412</th>\n",
       "      <th>413</th>\n",
       "      <th>419</th>\n",
       "      <th>50</th>\n",
       "      <th>ace10</th>\n",
       "      <th>alexaplay</th>\n",
       "      <th>at</th>\n",
       "      <th>...</th>\n",
       "      <th>ٱلعظيم</th>\n",
       "      <th>ٱني</th>\n",
       "      <th>ٲليس</th>\n",
       "      <th>ڪن</th>\n",
       "      <th>ڪيف</th>\n",
       "      <th>گل</th>\n",
       "      <th>گلنا</th>\n",
       "      <th>گم</th>\n",
       "      <th>گن</th>\n",
       "      <th>ھادي</th>\n",
       "    </tr>\n",
       "  </thead>\n",
       "  <tbody>\n",
       "    <tr>\n",
       "      <th>0</th>\n",
       "      <td>0</td>\n",
       "      <td>0</td>\n",
       "      <td>0</td>\n",
       "      <td>0</td>\n",
       "      <td>0</td>\n",
       "      <td>0</td>\n",
       "      <td>0</td>\n",
       "      <td>0</td>\n",
       "      <td>0</td>\n",
       "      <td>0</td>\n",
       "      <td>...</td>\n",
       "      <td>0</td>\n",
       "      <td>0</td>\n",
       "      <td>0</td>\n",
       "      <td>0</td>\n",
       "      <td>0</td>\n",
       "      <td>0</td>\n",
       "      <td>0</td>\n",
       "      <td>0</td>\n",
       "      <td>0</td>\n",
       "      <td>0</td>\n",
       "    </tr>\n",
       "    <tr>\n",
       "      <th>1</th>\n",
       "      <td>0</td>\n",
       "      <td>0</td>\n",
       "      <td>0</td>\n",
       "      <td>0</td>\n",
       "      <td>0</td>\n",
       "      <td>0</td>\n",
       "      <td>0</td>\n",
       "      <td>0</td>\n",
       "      <td>0</td>\n",
       "      <td>0</td>\n",
       "      <td>...</td>\n",
       "      <td>0</td>\n",
       "      <td>0</td>\n",
       "      <td>0</td>\n",
       "      <td>0</td>\n",
       "      <td>0</td>\n",
       "      <td>0</td>\n",
       "      <td>0</td>\n",
       "      <td>0</td>\n",
       "      <td>0</td>\n",
       "      <td>0</td>\n",
       "    </tr>\n",
       "    <tr>\n",
       "      <th>2</th>\n",
       "      <td>0</td>\n",
       "      <td>0</td>\n",
       "      <td>0</td>\n",
       "      <td>0</td>\n",
       "      <td>0</td>\n",
       "      <td>0</td>\n",
       "      <td>0</td>\n",
       "      <td>0</td>\n",
       "      <td>0</td>\n",
       "      <td>0</td>\n",
       "      <td>...</td>\n",
       "      <td>0</td>\n",
       "      <td>0</td>\n",
       "      <td>0</td>\n",
       "      <td>0</td>\n",
       "      <td>0</td>\n",
       "      <td>0</td>\n",
       "      <td>0</td>\n",
       "      <td>0</td>\n",
       "      <td>0</td>\n",
       "      <td>0</td>\n",
       "    </tr>\n",
       "    <tr>\n",
       "      <th>3</th>\n",
       "      <td>0</td>\n",
       "      <td>0</td>\n",
       "      <td>0</td>\n",
       "      <td>0</td>\n",
       "      <td>0</td>\n",
       "      <td>0</td>\n",
       "      <td>0</td>\n",
       "      <td>0</td>\n",
       "      <td>0</td>\n",
       "      <td>0</td>\n",
       "      <td>...</td>\n",
       "      <td>0</td>\n",
       "      <td>0</td>\n",
       "      <td>0</td>\n",
       "      <td>0</td>\n",
       "      <td>0</td>\n",
       "      <td>0</td>\n",
       "      <td>0</td>\n",
       "      <td>0</td>\n",
       "      <td>0</td>\n",
       "      <td>0</td>\n",
       "    </tr>\n",
       "    <tr>\n",
       "      <th>4</th>\n",
       "      <td>0</td>\n",
       "      <td>0</td>\n",
       "      <td>0</td>\n",
       "      <td>0</td>\n",
       "      <td>0</td>\n",
       "      <td>0</td>\n",
       "      <td>0</td>\n",
       "      <td>0</td>\n",
       "      <td>0</td>\n",
       "      <td>0</td>\n",
       "      <td>...</td>\n",
       "      <td>0</td>\n",
       "      <td>0</td>\n",
       "      <td>0</td>\n",
       "      <td>0</td>\n",
       "      <td>0</td>\n",
       "      <td>0</td>\n",
       "      <td>0</td>\n",
       "      <td>0</td>\n",
       "      <td>0</td>\n",
       "      <td>0</td>\n",
       "    </tr>\n",
       "  </tbody>\n",
       "</table>\n",
       "<p>5 rows × 10000 columns</p>\n",
       "</div>"
      ],
      "text/plain": [
       "   1953  30  40  412  413  419  50  ace10  alexaplay  at  ...  ٱلعظيم  ٱني  \\\n",
       "0     0   0   0    0    0    0   0      0          0   0  ...       0    0   \n",
       "1     0   0   0    0    0    0   0      0          0   0  ...       0    0   \n",
       "2     0   0   0    0    0    0   0      0          0   0  ...       0    0   \n",
       "3     0   0   0    0    0    0   0      0          0   0  ...       0    0   \n",
       "4     0   0   0    0    0    0   0      0          0   0  ...       0    0   \n",
       "\n",
       "   ٲليس  ڪن  ڪيف  گل  گلنا  گم  گن  ھادي  \n",
       "0     0   0    0   0     0   0   0     0  \n",
       "1     0   0    0   0     0   0   0     0  \n",
       "2     0   0    0   0     0   0   0     0  \n",
       "3     0   0    0   0     0   0   0     0  \n",
       "4     0   0    0   0     0   0   0     0  \n",
       "\n",
       "[5 rows x 10000 columns]"
      ]
     },
     "execution_count": 111,
     "metadata": {},
     "output_type": "execute_result"
    }
   ],
   "source": [
    "unigramdataGet2 = word_vectorizer_Count.fit_transform(data['Tweet'].astype('str'))\n",
    "unigramdataGet2 = unigramdataGet2.toarray()\n",
    "\n",
    "vocab2 = word_vectorizer_Count.get_feature_names()\n",
    "unigramdata_features2 = pd.DataFrame(np.round(unigramdataGet, 1), columns=vocab)\n",
    "unigramdata_features2[unigramdata_features > 0] = 1\n",
    "\n",
    "unigramdata_features2.head()"
   ]
  },
  {
   "cell_type": "markdown",
   "metadata": {
    "id": "_gWOT2_cy1o6"
   },
   "source": [
    "# Features Extraction from tweets text with TF-DIF unigram"
   ]
  },
  {
   "cell_type": "code",
   "execution_count": 92,
   "metadata": {
    "id": "zkM02vNkxdqE"
   },
   "outputs": [],
   "source": [
    "word_vectorizer = TfidfVectorizer(\n",
    "    sublinear_tf=True,\n",
    "    strip_accents='unicode',\n",
    "    analyzer='word',\n",
    "    ngram_range=(1, 1),\n",
    "    max_features=10000)"
   ]
  },
  {
   "cell_type": "code",
   "execution_count": 94,
   "metadata": {
    "id": "hMSCxky8xdqE",
    "outputId": "aabd9179-45b1-4b16-a97a-3494bf8c0b47"
   },
   "outputs": [
    {
     "name": "stderr",
     "output_type": "stream",
     "text": [
      "2022-05-21 00:07:47.168 INFO    numexpr.utils: NumExpr defaulting to 4 threads.\n"
     ]
    },
    {
     "data": {
      "text/html": [
       "<div>\n",
       "<style scoped>\n",
       "    .dataframe tbody tr th:only-of-type {\n",
       "        vertical-align: middle;\n",
       "    }\n",
       "\n",
       "    .dataframe tbody tr th {\n",
       "        vertical-align: top;\n",
       "    }\n",
       "\n",
       "    .dataframe thead th {\n",
       "        text-align: right;\n",
       "    }\n",
       "</style>\n",
       "<table border=\"1\" class=\"dataframe\">\n",
       "  <thead>\n",
       "    <tr style=\"text-align: right;\">\n",
       "      <th></th>\n",
       "      <th>1953</th>\n",
       "      <th>30</th>\n",
       "      <th>40</th>\n",
       "      <th>412</th>\n",
       "      <th>413</th>\n",
       "      <th>419</th>\n",
       "      <th>50</th>\n",
       "      <th>ace10</th>\n",
       "      <th>alexaplay</th>\n",
       "      <th>at</th>\n",
       "      <th>...</th>\n",
       "      <th>ٱلعظيم</th>\n",
       "      <th>ٱني</th>\n",
       "      <th>ٲليس</th>\n",
       "      <th>ڪن</th>\n",
       "      <th>ڪيف</th>\n",
       "      <th>گل</th>\n",
       "      <th>گلنا</th>\n",
       "      <th>گم</th>\n",
       "      <th>گن</th>\n",
       "      <th>ھادي</th>\n",
       "    </tr>\n",
       "  </thead>\n",
       "  <tbody>\n",
       "    <tr>\n",
       "      <th>0</th>\n",
       "      <td>0.0</td>\n",
       "      <td>0.0</td>\n",
       "      <td>0.0</td>\n",
       "      <td>0.0</td>\n",
       "      <td>0.0</td>\n",
       "      <td>0.0</td>\n",
       "      <td>0.0</td>\n",
       "      <td>0.0</td>\n",
       "      <td>0.0</td>\n",
       "      <td>0.0</td>\n",
       "      <td>...</td>\n",
       "      <td>0.0</td>\n",
       "      <td>0.0</td>\n",
       "      <td>0.0</td>\n",
       "      <td>0.0</td>\n",
       "      <td>0.0</td>\n",
       "      <td>0.0</td>\n",
       "      <td>0.0</td>\n",
       "      <td>0.0</td>\n",
       "      <td>0.0</td>\n",
       "      <td>0.0</td>\n",
       "    </tr>\n",
       "    <tr>\n",
       "      <th>1</th>\n",
       "      <td>0.0</td>\n",
       "      <td>0.0</td>\n",
       "      <td>0.0</td>\n",
       "      <td>0.0</td>\n",
       "      <td>0.0</td>\n",
       "      <td>0.0</td>\n",
       "      <td>0.0</td>\n",
       "      <td>0.0</td>\n",
       "      <td>0.0</td>\n",
       "      <td>0.0</td>\n",
       "      <td>...</td>\n",
       "      <td>0.0</td>\n",
       "      <td>0.0</td>\n",
       "      <td>0.0</td>\n",
       "      <td>0.0</td>\n",
       "      <td>0.0</td>\n",
       "      <td>0.0</td>\n",
       "      <td>0.0</td>\n",
       "      <td>0.0</td>\n",
       "      <td>0.0</td>\n",
       "      <td>0.0</td>\n",
       "    </tr>\n",
       "    <tr>\n",
       "      <th>2</th>\n",
       "      <td>0.0</td>\n",
       "      <td>0.0</td>\n",
       "      <td>0.0</td>\n",
       "      <td>0.0</td>\n",
       "      <td>0.0</td>\n",
       "      <td>0.0</td>\n",
       "      <td>0.0</td>\n",
       "      <td>0.0</td>\n",
       "      <td>0.0</td>\n",
       "      <td>0.0</td>\n",
       "      <td>...</td>\n",
       "      <td>0.0</td>\n",
       "      <td>0.0</td>\n",
       "      <td>0.0</td>\n",
       "      <td>0.0</td>\n",
       "      <td>0.0</td>\n",
       "      <td>0.0</td>\n",
       "      <td>0.0</td>\n",
       "      <td>0.0</td>\n",
       "      <td>0.0</td>\n",
       "      <td>0.0</td>\n",
       "    </tr>\n",
       "    <tr>\n",
       "      <th>3</th>\n",
       "      <td>0.0</td>\n",
       "      <td>0.0</td>\n",
       "      <td>0.0</td>\n",
       "      <td>0.0</td>\n",
       "      <td>0.0</td>\n",
       "      <td>0.0</td>\n",
       "      <td>0.0</td>\n",
       "      <td>0.0</td>\n",
       "      <td>0.0</td>\n",
       "      <td>0.0</td>\n",
       "      <td>...</td>\n",
       "      <td>0.0</td>\n",
       "      <td>0.0</td>\n",
       "      <td>0.0</td>\n",
       "      <td>0.0</td>\n",
       "      <td>0.0</td>\n",
       "      <td>0.0</td>\n",
       "      <td>0.0</td>\n",
       "      <td>0.0</td>\n",
       "      <td>0.0</td>\n",
       "      <td>0.0</td>\n",
       "    </tr>\n",
       "    <tr>\n",
       "      <th>4</th>\n",
       "      <td>0.0</td>\n",
       "      <td>0.0</td>\n",
       "      <td>0.0</td>\n",
       "      <td>0.0</td>\n",
       "      <td>0.0</td>\n",
       "      <td>0.0</td>\n",
       "      <td>0.0</td>\n",
       "      <td>0.0</td>\n",
       "      <td>0.0</td>\n",
       "      <td>0.0</td>\n",
       "      <td>...</td>\n",
       "      <td>0.0</td>\n",
       "      <td>0.0</td>\n",
       "      <td>0.0</td>\n",
       "      <td>0.0</td>\n",
       "      <td>0.0</td>\n",
       "      <td>0.0</td>\n",
       "      <td>0.0</td>\n",
       "      <td>0.0</td>\n",
       "      <td>0.0</td>\n",
       "      <td>0.0</td>\n",
       "    </tr>\n",
       "  </tbody>\n",
       "</table>\n",
       "<p>5 rows × 10000 columns</p>\n",
       "</div>"
      ],
      "text/plain": [
       "   1953   30   40  412  413  419   50  ace10  alexaplay   at  ...  ٱلعظيم  \\\n",
       "0   0.0  0.0  0.0  0.0  0.0  0.0  0.0    0.0        0.0  0.0  ...     0.0   \n",
       "1   0.0  0.0  0.0  0.0  0.0  0.0  0.0    0.0        0.0  0.0  ...     0.0   \n",
       "2   0.0  0.0  0.0  0.0  0.0  0.0  0.0    0.0        0.0  0.0  ...     0.0   \n",
       "3   0.0  0.0  0.0  0.0  0.0  0.0  0.0    0.0        0.0  0.0  ...     0.0   \n",
       "4   0.0  0.0  0.0  0.0  0.0  0.0  0.0    0.0        0.0  0.0  ...     0.0   \n",
       "\n",
       "   ٱني  ٲليس   ڪن  ڪيف   گل  گلنا   گم   گن  ھادي  \n",
       "0  0.0   0.0  0.0  0.0  0.0   0.0  0.0  0.0   0.0  \n",
       "1  0.0   0.0  0.0  0.0  0.0   0.0  0.0  0.0   0.0  \n",
       "2  0.0   0.0  0.0  0.0  0.0   0.0  0.0  0.0   0.0  \n",
       "3  0.0   0.0  0.0  0.0  0.0   0.0  0.0  0.0   0.0  \n",
       "4  0.0   0.0  0.0  0.0  0.0   0.0  0.0  0.0   0.0  \n",
       "\n",
       "[5 rows x 10000 columns]"
      ]
     },
     "execution_count": 94,
     "metadata": {},
     "output_type": "execute_result"
    }
   ],
   "source": [
    "unigramdataGet = word_vectorizer.fit_transform(data['Tweet'].astype('str'))\n",
    "unigramdataGet = unigramdataGet.toarray()\n",
    "\n",
    "vocab = word_vectorizer.get_feature_names()\n",
    "unigramdata_features = pd.DataFrame(np.round(unigramdataGet, 1), columns=vocab)\n",
    "unigramdata_features[unigramdata_features > 0] = 1\n",
    "\n",
    "unigramdata_features.head()"
   ]
  },
  {
   "cell_type": "code",
   "execution_count": 95,
   "metadata": {
    "id": "LAwvOwwnxdqE"
   },
   "outputs": [],
   "source": [
    "# Encoding class as 1 for Postive class and 0 for negative class : \n",
    "pro = preprocessing.LabelEncoder()\n",
    "data['Type'].replace({-1: 2}, inplace=True)\n",
    "encpro = pro.fit_transform(data['Type'])\n",
    "data['Type'] = encpro"
   ]
  },
  {
   "cell_type": "code",
   "execution_count": 96,
   "metadata": {
    "id": "zmiiXksAxdqF",
    "outputId": "a76ffb8b-07b3-401f-892b-b61270708749"
   },
   "outputs": [
    {
     "data": {
      "text/plain": [
       "1771    1\n",
       "496     1\n",
       "526     1\n",
       "680     1\n",
       "1992    1\n",
       "       ..\n",
       "7869    0\n",
       "8568    0\n",
       "5970    1\n",
       "4592    1\n",
       "45      1\n",
       "Name: Type, Length: 9000, dtype: int32"
      ]
     },
     "execution_count": 96,
     "metadata": {},
     "output_type": "execute_result"
    }
   ],
   "source": [
    "y = data['Type']\n",
    "X = unigramdata_features\n",
    "y"
   ]
  },
  {
   "cell_type": "code",
   "execution_count": 112,
   "metadata": {
    "id": "8dXmjWOJxdqF"
   },
   "outputs": [],
   "source": [
    "# Spliting Dataset into 70% Training and 30% Testing : \n",
    "X_train, X_test, y_train, y_test = train_test_split(\n",
    "    X, y, test_size=0.20, random_state=2)"
   ]
  },
  {
   "cell_type": "markdown",
   "metadata": {
    "id": "B6UjJVuYzCRz"
   },
   "source": [
    "# Trainig and Testing with Machine Learning Algorithms\n"
   ]
  },
  {
   "cell_type": "markdown",
   "metadata": {
    "id": "273IqlrUzMHE"
   },
   "source": [
    "## Naive Bayes Algorithm : "
   ]
  },
  {
   "cell_type": "code",
   "execution_count": 113,
   "metadata": {
    "id": "5lO7D3g5xdqG",
    "outputId": "01f94168-5610-4b4e-cc01-33b9f55248dd"
   },
   "outputs": [
    {
     "data": {
      "text/plain": [
       "GaussianNB(priors=None, var_smoothing=1e-09)"
      ]
     },
     "execution_count": 113,
     "metadata": {},
     "output_type": "execute_result"
    }
   ],
   "source": [
    "nb=GaussianNB()\n",
    "nb= nb.fit(X_train , y_train)\n",
    "nb\n"
   ]
  },
  {
   "cell_type": "code",
   "execution_count": 114,
   "metadata": {
    "id": "UzScroiFxdqG",
    "outputId": "81161689-450e-44de-ddb7-0435e7371141"
   },
   "outputs": [
    {
     "name": "stdout",
     "output_type": "stream",
     "text": [
      "Accuracy= 0.667\n"
     ]
    }
   ],
   "source": [
    "y_pred = nb.predict(X_test)\n",
    "nb_1=nb.score(X_test, y_test)\n",
    "print('Accuracy= {:.3f}'.format(nb.score(X_test, y_test)))"
   ]
  },
  {
   "cell_type": "code",
   "execution_count": 115,
   "metadata": {
    "id": "tu-o-7kbxdqG",
    "outputId": "0256b8c4-1da5-4feb-ad78-7d12756baf0a"
   },
   "outputs": [
    {
     "name": "stdout",
     "output_type": "stream",
     "text": [
      "Precision Score :  [0.49390244 0.81122449]\n"
     ]
    }
   ],
   "source": [
    "print(\"Precision Score : \", precision_score(y_test, y_pred, average=None))"
   ]
  },
  {
   "cell_type": "code",
   "execution_count": 116,
   "metadata": {
    "id": "BAxPN1CjxdqH",
    "outputId": "d92381a5-7a56-41ea-a556-bfdc994abe3f"
   },
   "outputs": [
    {
     "name": "stdout",
     "output_type": "stream",
     "text": [
      "recall_score :  [0.68644068 0.65702479]\n"
     ]
    }
   ],
   "source": [
    "print(\"recall_score : \", recall_score(y_test, y_pred, average=None))"
   ]
  },
  {
   "cell_type": "code",
   "execution_count": 117,
   "metadata": {
    "id": "dF-3GwTcxdqH",
    "outputId": "548f653b-6a18-43e2-e264-e568673e349f"
   },
   "outputs": [
    {
     "name": "stdout",
     "output_type": "stream",
     "text": [
      "F1 :  [0.57446809 0.7260274 ]\n"
     ]
    }
   ],
   "source": [
    "print(\"F1 : \", f1_score(y_test, y_pred, average=None))"
   ]
  },
  {
   "cell_type": "code",
   "execution_count": 118,
   "metadata": {
    "id": "La94DCYHxdqI",
    "outputId": "d847ca84-b248-4534-d2cb-7f29114c170c"
   },
   "outputs": [
    {
     "name": "stdout",
     "output_type": "stream",
     "text": [
      "Accuracy= 0.667\n",
      "Precision Score :  [0.49390244 0.81122449]\n",
      "recall_score :  [0.68644068 0.65702479]\n",
      "F1 :  [0.57446809 0.7260274 ]\n"
     ]
    }
   ],
   "source": [
    "print('Accuracy= {:.3f}'.format(nb.score(X_test, y_test)))\n",
    "print(\"Precision Score : \", precision_score(y_test, y_pred, average=None))\n",
    "print(\"recall_score : \", recall_score(y_test, y_pred, average=None))\n",
    "print(\"F1 : \", f1_score(y_test, y_pred, average=None)) "
   ]
  },
  {
   "cell_type": "markdown",
   "metadata": {
    "id": "VxQHywJGzWZn"
   },
   "source": [
    "## RidgeClassifier Algorithm\n"
   ]
  },
  {
   "cell_type": "code",
   "execution_count": 119,
   "metadata": {
    "id": "Uo8yVEQXxdqI",
    "outputId": "454257df-1801-408f-ff1f-1cbebb169c3e"
   },
   "outputs": [
    {
     "data": {
      "text/plain": [
       "RidgeClassifier(alpha=1.0, class_weight=None, copy_X=True, fit_intercept=True,\n",
       "                max_iter=None, normalize=False, random_state=None,\n",
       "                solver='auto', tol=0.001)"
      ]
     },
     "execution_count": 119,
     "metadata": {},
     "output_type": "execute_result"
    }
   ],
   "source": [
    "RC = RidgeClassifier()\n",
    "RC = RC.fit(X_train, y_train)\n",
    "RC"
   ]
  },
  {
   "cell_type": "code",
   "execution_count": 120,
   "metadata": {
    "id": "856xCD8KxdqI",
    "outputId": "3eb45a96-eca9-4cd9-9b43-7f72abea7a16"
   },
   "outputs": [
    {
     "name": "stdout",
     "output_type": "stream",
     "text": [
      "Accuracy= 0.717\n"
     ]
    }
   ],
   "source": [
    "y_pred = RC.predict(X_test)\n",
    "rc_1 = RC.score(X_test, y_test)\n",
    "print('Accuracy= {:.3f}'.format(RC.score(X_test, y_test))) "
   ]
  },
  {
   "cell_type": "code",
   "execution_count": 121,
   "metadata": {
    "id": "ui4_nDKlxdqJ",
    "outputId": "cee78cba-eb6a-4211-e64a-eaaa7b793aeb"
   },
   "outputs": [
    {
     "name": "stdout",
     "output_type": "stream",
     "text": [
      "Precision Score :  [0.57407407 0.77777778]\n"
     ]
    }
   ],
   "source": [
    "print(\"Precision Score : \", precision_score(y_test, y_pred, average=None))\n"
   ]
  },
  {
   "cell_type": "code",
   "execution_count": 122,
   "metadata": {
    "id": "VYL63t0lxdqJ",
    "outputId": "b6a6de83-5619-48f3-d943-9d283bcfa952"
   },
   "outputs": [
    {
     "name": "stdout",
     "output_type": "stream",
     "text": [
      "recall_score :  [0.52542373 0.80991736]\n"
     ]
    }
   ],
   "source": [
    "print(\"recall_score : \", recall_score(y_test, y_pred, average=None))"
   ]
  },
  {
   "cell_type": "code",
   "execution_count": 123,
   "metadata": {
    "id": "xZzCc10ZxdqK",
    "outputId": "9eef21ec-bf54-4585-d581-829cc1de1148"
   },
   "outputs": [
    {
     "name": "stdout",
     "output_type": "stream",
     "text": [
      "F1 :  [0.54867257 0.79352227]\n"
     ]
    }
   ],
   "source": [
    "print(\"F1 : \", f1_score(y_test, y_pred, average=None))"
   ]
  },
  {
   "cell_type": "code",
   "execution_count": 124,
   "metadata": {
    "id": "-CwK-oRUxdqK",
    "outputId": "0ef25278-9c04-432a-d662-1cd2b8e54896"
   },
   "outputs": [
    {
     "name": "stdout",
     "output_type": "stream",
     "text": [
      "Accuracy= 0.717\n",
      "Precision Score :  [0.57407407 0.77777778]\n",
      "recall_score :  [0.52542373 0.80991736]\n",
      "F1 :  [0.54867257 0.79352227]\n"
     ]
    }
   ],
   "source": [
    "print('Accuracy= {:.3f}'.format(RC.score(X_test, y_test)))\n",
    "print(\"Precision Score : \", precision_score(y_test, y_pred, average=None))\n",
    "print(\"recall_score : \", recall_score(y_test, y_pred, average=None))\n",
    "print(\"F1 : \", f1_score(y_test, y_pred, average=None))"
   ]
  },
  {
   "cell_type": "markdown",
   "metadata": {
    "id": "Fh7hFZspzdzA"
   },
   "source": [
    "## PassiveAggressiveClassifier Algorithm \n",
    " "
   ]
  },
  {
   "cell_type": "code",
   "execution_count": 125,
   "metadata": {
    "id": "hkYkzAOMxdqL",
    "outputId": "3976d71b-5c30-4e9e-ec9f-06f1d50acb50"
   },
   "outputs": [
    {
     "data": {
      "text/plain": [
       "PassiveAggressiveClassifier(C=1.0, average=False, class_weight=None,\n",
       "                            early_stopping=False, fit_intercept=True,\n",
       "                            loss='hinge', max_iter=1000, n_iter_no_change=5,\n",
       "                            n_jobs=None, random_state=None, shuffle=True,\n",
       "                            tol=0.001, validation_fraction=0.1, verbose=0,\n",
       "                            warm_start=False)"
      ]
     },
     "execution_count": 125,
     "metadata": {},
     "output_type": "execute_result"
    }
   ],
   "source": [
    "PC = PassiveAggressiveClassifier()\n",
    "PC = PC.fit(X_train, y_train)\n",
    "PC"
   ]
  },
  {
   "cell_type": "code",
   "execution_count": 126,
   "metadata": {
    "id": "ZUllf1cexdqM",
    "outputId": "20b905f9-2681-40a3-eed7-cedba211fa75"
   },
   "outputs": [
    {
     "name": "stdout",
     "output_type": "stream",
     "text": [
      "Accuracy= 0.702\n"
     ]
    }
   ],
   "source": [
    "y_pred = PC.predict(X_test)\n",
    "pc_1 = PC.score(X_test, y_test)\n",
    "print('Accuracy= {:.3f}'.format(PC.score(X_test, y_test)))"
   ]
  },
  {
   "cell_type": "code",
   "execution_count": 127,
   "metadata": {
    "id": "B6vujYorxdqN",
    "outputId": "68ee8d04-2374-46f9-94f2-4cc9c67aa854"
   },
   "outputs": [
    {
     "name": "stdout",
     "output_type": "stream",
     "text": [
      "Precision Score :  [0.54272152 0.7885274 ]\n"
     ]
    }
   ],
   "source": [
    "print(\"Precision Score : \", precision_score(y_test, y_pred, average=None))"
   ]
  },
  {
   "cell_type": "code",
   "execution_count": 128,
   "metadata": {
    "id": "BYq8bInYxdqN",
    "outputId": "5003af71-0f22-4cc1-8e93-0a7ce1029f23"
   },
   "outputs": [
    {
     "name": "stdout",
     "output_type": "stream",
     "text": [
      "recall_score :  [0.58135593 0.76115702]\n"
     ]
    }
   ],
   "source": [
    "print(\"recall_score : \", recall_score(y_test, y_pred, average=None))"
   ]
  },
  {
   "cell_type": "code",
   "execution_count": 129,
   "metadata": {
    "id": "L8AqCXRAxdqO",
    "outputId": "0b8912c3-5617-4f3f-8d54-2786e7487969"
   },
   "outputs": [
    {
     "name": "stdout",
     "output_type": "stream",
     "text": [
      "F1 :  [0.5613748 0.7746005]\n"
     ]
    }
   ],
   "source": [
    "print(\"F1 : \", f1_score(y_test, y_pred, average=None))"
   ]
  },
  {
   "cell_type": "markdown",
   "metadata": {
    "id": "ih_Np4VezlZW"
   },
   "source": [
    "## LogisticRegression Algorithm :"
   ]
  },
  {
   "cell_type": "code",
   "execution_count": 130,
   "metadata": {
    "id": "Xg06Ei5DxdqO",
    "outputId": "9fbe74a0-f3fe-4aa2-f569-52d3a2724177"
   },
   "outputs": [
    {
     "data": {
      "text/plain": [
       "LogisticRegression(C=1, class_weight=None, dual=False, fit_intercept=True,\n",
       "                   intercept_scaling=1, l1_ratio=None, max_iter=100,\n",
       "                   multi_class='auto', n_jobs=None, penalty='l2',\n",
       "                   random_state=None, solver='lbfgs', tol=0.0001, verbose=0,\n",
       "                   warm_start=False)"
      ]
     },
     "execution_count": 130,
     "metadata": {},
     "output_type": "execute_result"
    }
   ],
   "source": [
    "LR = LogisticRegression(penalty='l2', C=1)\n",
    "LR = LR.fit(X_train, y_train)\n",
    "LR"
   ]
  },
  {
   "cell_type": "code",
   "execution_count": 131,
   "metadata": {
    "id": "0Nr1cNo-xdqP",
    "outputId": "dedf594b-bae5-4fd4-d9c0-76b059604cf6"
   },
   "outputs": [
    {
     "name": "stdout",
     "output_type": "stream",
     "text": [
      "Accuracy= 0.732\n"
     ]
    }
   ],
   "source": [
    "LR = LogisticRegression(penalty='l2', C=1)\n",
    "LR = LR.fit(X_train, y_train)\n",
    "LR\n",
    "\n",
    "y_pred = LR.predict(X_test)\n",
    "lr_1 = LR.score(X_test, y_test)\n",
    "print('Accuracy= {:.3f}'.format(LR.score(X_test, y_test)))\n"
   ]
  },
  {
   "cell_type": "code",
   "execution_count": 132,
   "metadata": {
    "id": "-XWY1QYcxdqP",
    "outputId": "714a82a7-b091-4002-cf62-11334dcbe13c"
   },
   "outputs": [
    {
     "name": "stdout",
     "output_type": "stream",
     "text": [
      "Precision Score :  [0.62186788 0.76708303]\n"
     ]
    }
   ],
   "source": [
    "print(\"Precision Score : \", precision_score(y_test, y_pred, average=None))"
   ]
  },
  {
   "cell_type": "code",
   "execution_count": 134,
   "metadata": {
    "id": "MNtVrWBdxdqP",
    "outputId": "51a2a578-2e01-471e-b6f3-790c0f4d5761"
   },
   "outputs": [
    {
     "name": "stdout",
     "output_type": "stream",
     "text": [
      "recall_score :  [0.46271186 0.86280992]\n"
     ]
    }
   ],
   "source": [
    "print(\"recall_score : \", recall_score(y_test, y_pred, average=None))"
   ]
  },
  {
   "cell_type": "code",
   "execution_count": 136,
   "metadata": {
    "id": "PatTl87ZxdqQ",
    "outputId": "37837795-7b33-4eb4-c842-11f1c191dec4"
   },
   "outputs": [
    {
     "name": "stdout",
     "output_type": "stream",
     "text": [
      "F1 :  [0.53061224 0.81213536]\n"
     ]
    }
   ],
   "source": [
    "print(\"F1 : \", f1_score(y_test, y_pred, average=None))"
   ]
  },
  {
   "cell_type": "code",
   "execution_count": 137,
   "metadata": {
    "id": "LT7zGGrkxdqQ",
    "outputId": "321daa5b-5811-42cb-eedc-aa5786191981"
   },
   "outputs": [
    {
     "name": "stdout",
     "output_type": "stream",
     "text": [
      "Precision Score :  [0.62186788 0.76708303]\n",
      "recall_score :  [0.46271186 0.86280992]\n",
      "F1 :  [0.53061224 0.81213536]\n"
     ]
    }
   ],
   "source": [
    "print(\"Precision Score : \", precision_score(y_test, y_pred, average=None))\n",
    "print(\"recall_score : \", recall_score(y_test, y_pred, average=None))\n",
    "print(\"F1 : \", f1_score(y_test, y_pred, average=None))\n"
   ]
  },
  {
   "cell_type": "markdown",
   "metadata": {
    "id": "sg9s91oeztR3"
   },
   "source": [
    " ## classification report :"
   ]
  },
  {
   "cell_type": "code",
   "execution_count": 138,
   "metadata": {
    "id": "V8tz4t2FxdqR",
    "outputId": "ec11b5a6-fc87-4d30-a977-62236afd9fdb"
   },
   "outputs": [
    {
     "name": "stdout",
     "output_type": "stream",
     "text": [
      "              precision    recall  f1-score   support\n",
      "\n",
      "           0       0.62      0.46      0.53       590\n",
      "           1       0.77      0.86      0.81      1210\n",
      "\n",
      "    accuracy                           0.73      1800\n",
      "   macro avg       0.69      0.66      0.67      1800\n",
      "weighted avg       0.72      0.73      0.72      1800\n",
      "\n",
      "\n",
      "\n",
      "<function confusion_matrix at 0x00000295FE7D9E58>\n"
     ]
    }
   ],
   "source": [
    "CR = classification_report(y_test, y_pred)\n",
    "print(CR)\n",
    "print('\\n')\n",
    "confusion_matrix(y_test, y_pred)\n",
    "print(confusion_matrix)"
   ]
  },
  {
   "cell_type": "markdown",
   "metadata": {
    "id": "yJRWInnbz2Gp"
   },
   "source": [
    "## LinearSVC :"
   ]
  },
  {
   "cell_type": "code",
   "execution_count": 139,
   "metadata": {
    "id": "PMAUzlXVxdqR",
    "outputId": "4f985e12-11ff-40ed-c3a0-b495578fc1fd"
   },
   "outputs": [
    {
     "data": {
      "text/plain": [
       "LinearSVC(C=1, class_weight=None, dual=True, fit_intercept=True,\n",
       "          intercept_scaling=1, loss='squared_hinge', max_iter=500,\n",
       "          multi_class='ovr', penalty='l2', random_state=None, tol=0.0001,\n",
       "          verbose=0)"
      ]
     },
     "execution_count": 139,
     "metadata": {},
     "output_type": "execute_result"
    }
   ],
   "source": [
    "svc = LinearSVC(C=1, max_iter=500)\n",
    "svc = svc.fit(X_train, y_train)\n",
    "svc"
   ]
  },
  {
   "cell_type": "code",
   "execution_count": 140,
   "metadata": {
    "id": "Z4F2Lm0gxdqR",
    "outputId": "93cd744e-94d1-41f0-fc60-391ee8de15bb"
   },
   "outputs": [
    {
     "name": "stdout",
     "output_type": "stream",
     "text": [
      "Accuracy= 0.714\n",
      "Precision Score :  [0.56690141 0.78246753]\n",
      "recall_score :  [0.54576271 0.79669421]\n",
      "F1 :  [0.55613126 0.78951679]\n",
      "<function confusion_matrix at 0x00000295FE7D9E58>\n"
     ]
    }
   ],
   "source": [
    "y_pred = svc.predict(X_test)\n",
    "svc_1 = svc.score(X_test, y_test)\n",
    "print('Accuracy= {:.3f}'.format(svc.score(X_test, y_test)))\n",
    "\n",
    "print(\"Precision Score : \", precision_score(y_test, y_pred, average=None))\n",
    "print(\"recall_score : \", recall_score(y_test, y_pred, average=None))\n",
    "print(\"F1 : \", f1_score(y_test, y_pred, average=None))\n",
    "confusion_matrix(y_test, y_pred)\n",
    "print(confusion_matrix)"
   ]
  },
  {
   "cell_type": "markdown",
   "metadata": {
    "id": "Hv7oBJWQz68C"
   },
   "source": [
    "## RandomForestClassifier : "
   ]
  },
  {
   "cell_type": "code",
   "execution_count": 141,
   "metadata": {
    "id": "m9yQi7gLxdqS",
    "outputId": "a5e2878b-2e39-475f-8bfc-20b9059157d8"
   },
   "outputs": [
    {
     "data": {
      "text/plain": [
       "RandomForestClassifier(bootstrap=True, ccp_alpha=0.0, class_weight=None,\n",
       "                       criterion='gini', max_depth=None, max_features='auto',\n",
       "                       max_leaf_nodes=None, max_samples=None,\n",
       "                       min_impurity_decrease=0.0, min_impurity_split=None,\n",
       "                       min_samples_leaf=20, min_samples_split=20,\n",
       "                       min_weight_fraction_leaf=0.0, n_estimators=100,\n",
       "                       n_jobs=None, oob_score=False, random_state=10, verbose=0,\n",
       "                       warm_start=False)"
      ]
     },
     "execution_count": 141,
     "metadata": {},
     "output_type": "execute_result"
    }
   ],
   "source": [
    "raf = RandomForestClassifier(\n",
    "    min_samples_leaf=20, min_samples_split=20, random_state=10)\n",
    "raf = raf.fit(X_train, y_train)\n",
    "raf"
   ]
  },
  {
   "cell_type": "code",
   "execution_count": 142,
   "metadata": {
    "id": "9r8bpOnjxdqS",
    "outputId": "1924843e-0b62-48d9-b20a-597a0fc1e384"
   },
   "outputs": [
    {
     "name": "stdout",
     "output_type": "stream",
     "text": [
      "Accuracy= 0.672\n"
     ]
    }
   ],
   "source": [
    "y_pred = raf.predict(X_test)\n",
    "raf_1 = raf.score(X_test, y_test)\n",
    "print('Accuracy= {:.3f}'.format(raf.score(X_test, y_test)))"
   ]
  },
  {
   "cell_type": "code",
   "execution_count": 143,
   "metadata": {
    "id": "AABymkbOxdqS",
    "outputId": "74b00970-c7ce-432c-e531-e5ba0cba2e78"
   },
   "outputs": [
    {
     "name": "stdout",
     "output_type": "stream",
     "text": [
      "Precision Score :  [0.         0.67222222]\n",
      "recall_score :  [0. 1.]\n",
      "F1 :  [0.         0.80398671]\n"
     ]
    }
   ],
   "source": [
    "\n",
    "print(\"Precision Score : \", precision_score(y_test, y_pred, average=None))\n",
    "print(\"recall_score : \", recall_score(y_test, y_pred, average=None))\n",
    "print(\"F1 : \", f1_score(y_test, y_pred, average=None))"
   ]
  },
  {
   "cell_type": "markdown",
   "metadata": {
    "id": "Mec0l1w10BIC"
   },
   "source": [
    "## VotingClassifier : "
   ]
  },
  {
   "cell_type": "code",
   "execution_count": 144,
   "metadata": {
    "id": "Qbtmowp1xdqT",
    "outputId": "499e7cd1-a0d6-4670-d26f-c14d67518ecc"
   },
   "outputs": [
    {
     "data": {
      "text/plain": [
       "VotingClassifier(estimators=[('SVM',\n",
       "                              LinearSVC(C=1, class_weight=None, dual=True,\n",
       "                                        fit_intercept=True, intercept_scaling=1,\n",
       "                                        loss='squared_hinge', max_iter=500,\n",
       "                                        multi_class='ovr', penalty='l2',\n",
       "                                        random_state=None, tol=0.0001,\n",
       "                                        verbose=0)),\n",
       "                             ('nb',\n",
       "                              GaussianNB(priors=None, var_smoothing=1e-09)),\n",
       "                             ('RC',\n",
       "                              RidgeClassifier(alpha=1.0, class_weight=None,\n",
       "                                              copy_X=True, fit_intercept=...\n",
       "                                                          validation_fraction=0.1,\n",
       "                                                          verbose=0,\n",
       "                                                          warm_start=False)),\n",
       "                             ('LR',\n",
       "                              LogisticRegression(C=1, class_weight=None,\n",
       "                                                 dual=False, fit_intercept=True,\n",
       "                                                 intercept_scaling=1,\n",
       "                                                 l1_ratio=None, max_iter=100,\n",
       "                                                 multi_class='auto',\n",
       "                                                 n_jobs=None, penalty='l2',\n",
       "                                                 random_state=None,\n",
       "                                                 solver='lbfgs', tol=0.0001,\n",
       "                                                 verbose=0,\n",
       "                                                 warm_start=False))],\n",
       "                 flatten_transform=True, n_jobs=None, voting='hard',\n",
       "                 weights=None)"
      ]
     },
     "execution_count": 144,
     "metadata": {},
     "output_type": "execute_result"
    }
   ],
   "source": [
    "Ens = VotingClassifier(estimators=[(\n",
    "    'SVM', svc), ('nb', nb), ('RC', RC), ('raf', raf), ('PC', PC), ('LR', LR)], voting='hard')\n",
    "Ens = Ens.fit(X_train, y_train)\n",
    "Ens"
   ]
  },
  {
   "cell_type": "code",
   "execution_count": 145,
   "metadata": {
    "id": "WZqwsT4JxdqT",
    "outputId": "fe4b4e34-f850-4d53-8a25-7aa1ca060c60"
   },
   "outputs": [
    {
     "name": "stdout",
     "output_type": "stream",
     "text": [
      "Accuracy= 0.717\n"
     ]
    }
   ],
   "source": [
    "y_pred = Ens.predict(X_test)\n",
    "Ens_1 = Ens.score(X_test, y_test)\n",
    "print('Accuracy= {:.3f}'.format(Ens.score(X_test, y_test)))"
   ]
  },
  {
   "cell_type": "code",
   "execution_count": 146,
   "metadata": {
    "id": "suHFpdHBxdqT",
    "outputId": "1c40e135-d815-4f89-e3fc-3ed0f21eba91"
   },
   "outputs": [
    {
     "name": "stdout",
     "output_type": "stream",
     "text": [
      "Precision Score :  [0.57067138 0.78363047]\n",
      "recall_score :  [0.54745763 0.79917355]\n",
      "F1 :  [0.55882353 0.7913257 ]\n"
     ]
    }
   ],
   "source": [
    "print(\"Precision Score : \", precision_score(y_test, y_pred, average=None))\n",
    "print(\"recall_score : \", recall_score(y_test, y_pred, average=None))\n",
    "print(\"F1 : \", f1_score(y_test, y_pred, average=None))"
   ]
  },
  {
   "cell_type": "markdown",
   "metadata": {
    "id": "5kUVDOjn0HGu"
   },
   "source": [
    "# Comparison of all algorithms Results"
   ]
  },
  {
   "cell_type": "code",
   "execution_count": 147,
   "metadata": {
    "id": "BFvGwhaZxdqU",
    "outputId": "5c16ac16-0c9e-4cde-90e2-81e963b4cf67"
   },
   "outputs": [
    {
     "name": "stdout",
     "output_type": "stream",
     "text": [
      "\n",
      "\n",
      "Comparison of all algorithms on F1 score\n",
      "+-----------------------------------------+----------+\n",
      "|                  Model                  | Accuracy |\n",
      "+-----------------------------------------+----------+\n",
      "|          Naive Bayes Algorithm          |   0.67   |\n",
      "|        Ridge Classifier Algorithm       |   0.72   |\n",
      "| Passive Aggressive Classifier Algorithm |   0.7    |\n",
      "|      Logistic Regression Algorithm      |   0.73   |\n",
      "|                   SVM                   |   0.71   |\n",
      "|              Random Forest              |   0.67   |\n",
      "|             VotingClassifier            |   0.72   |\n",
      "+-----------------------------------------+----------+\n",
      "\n",
      "\n"
     ]
    }
   ],
   "source": [
    "x = PrettyTable()\n",
    "print('\\n')\n",
    "print(\"Comparison of all algorithms on F1 score\")\n",
    "x.field_names = [\"Model\", \"Accuracy\"]\n",
    "x.add_row([\"Naive Bayes Algorithm\", round(nb_1, 2)])\n",
    "x.add_row([\"Ridge Classifier Algorithm\",  round(rc_1, 2)])\n",
    "x.add_row([\"Passive Aggressive Classifier Algorithm\", round(pc_1, 2)])\n",
    "x.add_row([\"Logistic Regression Algorithm\", round(lr_1, 2)])\n",
    "x.add_row([\"SVM\", round(svc_1, 2)])\n",
    "x.add_row([\"Random Forest\", round(raf_1, 2)])\n",
    "x.add_row([\"VotingClassifier\", round(Ens_1, 2)])\n",
    "print(x)\n",
    "print('\\n')"
   ]
  },
  {
   "cell_type": "code",
   "execution_count": 148,
   "metadata": {
    "id": "OG_3NAEVxdqU",
    "outputId": "fab96834-3870-4198-c1ca-6bd11e25c6f5"
   },
   "outputs": [
    {
     "data": {
      "text/plain": [
       "LogisticRegression(C=1, class_weight=None, dual=False, fit_intercept=True,\n",
       "                   intercept_scaling=1, l1_ratio=None, max_iter=100,\n",
       "                   multi_class='auto', n_jobs=None, penalty='l2',\n",
       "                   random_state=None, solver='lbfgs', tol=0.0001, verbose=0,\n",
       "                   warm_start=False)"
      ]
     },
     "execution_count": 148,
     "metadata": {},
     "output_type": "execute_result"
    }
   ],
   "source": [
    "# Training Logistic Regression algorithm  : \n",
    "RC =LogisticRegression(penalty = 'l2', C = 1)\n",
    "RC.fit(X,y)"
   ]
  },
  {
   "cell_type": "code",
   "execution_count": 149,
   "metadata": {
    "id": "RjZK6BWoxdqV"
   },
   "outputs": [],
   "source": [
    "testing = [\n",
    "    'الي يتابعني من زمان يعرف اني ما حفزت على الحضور هالموسم ومقاطع المدرج من فترة طويلة بسبب الفشل']"
   ]
  },
  {
   "cell_type": "code",
   "execution_count": 150,
   "metadata": {
    "id": "JdNphKkrxdqV"
   },
   "outputs": [],
   "source": [
    "x = word_vectorizer.transform(testing)"
   ]
  },
  {
   "cell_type": "code",
   "execution_count": 151,
   "metadata": {
    "id": "cXYkKKYrxdqV",
    "outputId": "4b2abef6-6cc7-4221-c141-3ea34a7ac3f1"
   },
   "outputs": [
    {
     "name": "stdout",
     "output_type": "stream",
     "text": [
      "  Prediction\n",
      "0        pos\n"
     ]
    }
   ],
   "source": [
    "pred=RC.predict(x)\n",
    "pred=pro.inverse_transform(pred)\n",
    "prediction=pd.DataFrame(pred, columns=['Prediction']) \n",
    "print (prediction)"
   ]
  },
  {
   "cell_type": "code",
   "execution_count": 152,
   "metadata": {
    "id": "AfJPNAISxdqW",
    "outputId": "d73d0da3-696f-4ff2-bcf5-650c111600d8"
   },
   "outputs": [
    {
     "data": {
      "text/html": [
       "<div>\n",
       "<style scoped>\n",
       "    .dataframe tbody tr th:only-of-type {\n",
       "        vertical-align: middle;\n",
       "    }\n",
       "\n",
       "    .dataframe tbody tr th {\n",
       "        vertical-align: top;\n",
       "    }\n",
       "\n",
       "    .dataframe thead th {\n",
       "        text-align: right;\n",
       "    }\n",
       "</style>\n",
       "<table border=\"1\" class=\"dataframe\">\n",
       "  <thead>\n",
       "    <tr style=\"text-align: right;\">\n",
       "      <th></th>\n",
       "      <th>Text</th>\n",
       "      <th>Prediction</th>\n",
       "    </tr>\n",
       "  </thead>\n",
       "  <tbody>\n",
       "    <tr>\n",
       "      <th>0</th>\n",
       "      <td>الي يتابعني من زمان يعرف اني ما حفزت على الحضو...</td>\n",
       "      <td>pos</td>\n",
       "    </tr>\n",
       "  </tbody>\n",
       "</table>\n",
       "</div>"
      ],
      "text/plain": [
       "                                                Text Prediction\n",
       "0  الي يتابعني من زمان يعرف اني ما حفزت على الحضو...        pos"
      ]
     },
     "execution_count": 152,
     "metadata": {},
     "output_type": "execute_result"
    }
   ],
   "source": [
    "result=pd.DataFrame()\n",
    "result['Text']=testing\n",
    "result['Prediction']=prediction\n",
    "result"
   ]
  },
  {
   "cell_type": "code",
   "execution_count": null,
   "metadata": {},
   "outputs": [],
   "source": []
  }
 ],
 "metadata": {
  "colab": {
   "name": "ANLP.ipynb",
   "provenance": []
  },
  "kernelspec": {
   "display_name": "Python 3",
   "language": "python",
   "name": "python3"
  },
  "language_info": {
   "codemirror_mode": {
    "name": "ipython",
    "version": 3
   },
   "file_extension": ".py",
   "mimetype": "text/x-python",
   "name": "python",
   "nbconvert_exporter": "python",
   "pygments_lexer": "ipython3",
   "version": "3.7.6"
  }
 },
 "nbformat": 4,
 "nbformat_minor": 1
}
